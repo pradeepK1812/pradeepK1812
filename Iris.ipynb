{
  "nbformat": 4,
  "nbformat_minor": 0,
  "metadata": {
    "colab": {
      "provenance": [],
      "authorship_tag": "ABX9TyO9NsKXjB9qiTKEFA36fWJL",
      "include_colab_link": true
    },
    "kernelspec": {
      "name": "python3",
      "display_name": "Python 3"
    },
    "language_info": {
      "name": "python"
    }
  },
  "cells": [
    {
      "cell_type": "markdown",
      "metadata": {
        "id": "view-in-github",
        "colab_type": "text"
      },
      "source": [
        "<a href=\"https://colab.research.google.com/github/pradeepK1812/pradeepK1812/blob/main/Iris.ipynb\" target=\"_parent\"><img src=\"https://colab.research.google.com/assets/colab-badge.svg\" alt=\"Open In Colab\"/></a>"
      ]
    },
    {
      "cell_type": "code",
      "execution_count": 5,
      "metadata": {
        "colab": {
          "base_uri": "https://localhost:8080/"
        },
        "id": "WDiuH85em8B9",
        "outputId": "c0e860fa-ad7e-4e11-9d1f-4c85a66c2d2d"
      },
      "outputs": [
        {
          "output_type": "stream",
          "name": "stdout",
          "text": [
            "['setosa' 'versicolor' 'virginica']\n",
            "['setosa' 'versicolor' 'virginica']\n",
            "Number of samples: 150\n",
            "Number of features: 4\n",
            "[5.1 3.5 1.4 0.2]\n"
          ]
        }
      ],
      "source": [
        "from sklearn.datasets import load_iris\n",
        "iris = load_iris()\n",
        "type(iris)\n",
        "iris.keys()\n",
        "print(iris[\"target_names\"])\n",
        "print(iris.target_names)\n",
        "n_samples, n_features = iris.data.shape\n",
        "print('Number of samples:', n_samples)\n",
        "print('Number of features:', n_features)\n",
        "# the sepal length, sepal width, petal length and petal width of\n",
        "# the first sample (first flower)\n",
        "print(iris.data[0])\n",
        "\n"
      ]
    }
  ]
}