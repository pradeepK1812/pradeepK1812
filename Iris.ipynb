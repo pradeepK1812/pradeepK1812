{
  "nbformat": 4,
  "nbformat_minor": 0,
  "metadata": {
    "colab": {
      "provenance": [],
      "authorship_tag": "ABX9TyN7+OC8KO4/I4FiXSKUeLou",
      "include_colab_link": true
    },
    "kernelspec": {
      "name": "python3",
      "display_name": "Python 3"
    },
    "language_info": {
      "name": "python"
    }
  },
  "cells": [
    {
      "cell_type": "markdown",
      "metadata": {
        "id": "view-in-github",
        "colab_type": "text"
      },
      "source": [
        "<a href=\"https://colab.research.google.com/github/pradeepK1812/pradeepK1812/blob/main/Iris.ipynb\" target=\"_parent\"><img src=\"https://colab.research.google.com/assets/colab-badge.svg\" alt=\"Open In Colab\"/></a>"
      ]
    },
    {
      "cell_type": "code",
      "execution_count": 8,
      "metadata": {
        "colab": {
          "base_uri": "https://localhost:8080/",
          "height": 657
        },
        "id": "WDiuH85em8B9",
        "outputId": "7d2d025e-08f1-47fe-f989-ed8bc52b265a"
      },
      "outputs": [
        {
          "output_type": "stream",
          "name": "stdout",
          "text": [
            "['setosa' 'versicolor' 'virginica']\n",
            "['setosa' 'versicolor' 'virginica']\n",
            "Number of samples: 150\n",
            "Number of features: 4\n",
            "[5.1 3.5 1.4 0.2]\n",
            "(150, 4)\n",
            "[0 0 0 0 0 0 0 0 0 0 0 0 0 0 0 0 0 0 0 0 0 0 0 0 0 0 0 0 0 0 0 0 0 0 0 0 0\n",
            " 0 0 0 0 0 0 0 0 0 0 0 0 0 1 1 1 1 1 1 1 1 1 1 1 1 1 1 1 1 1 1 1 1 1 1 1 1\n",
            " 1 1 1 1 1 1 1 1 1 1 1 1 1 1 1 1 1 1 1 1 1 1 1 1 1 1 2 2 2 2 2 2 2 2 2 2 2\n",
            " 2 2 2 2 2 2 2 2 2 2 2 2 2 2 2 2 2 2 2 2 2 2 2 2 2 2 2 2 2 2 2 2 2 2 2 2 2\n",
            " 2 2]\n",
            "(150,)\n"
          ]
        },
        {
          "output_type": "display_data",
          "data": {
            "text/plain": [
              "<Figure size 640x480 with 1 Axes>"
            ],
            "image/png": "[encoded data removed]"
          },
          "metadata": {}
        }
      ],
      "source": [
        "from sklearn.datasets import load_iris\n",
        "import numpy as np\n",
        "import matplotlib.pyplot as plt\n",
        "iris = load_iris()\n",
        "type(iris)\n",
        "iris.keys()\n",
        "print(iris[\"target_names\"])\n",
        "print(iris.target_names)\n",
        "n_samples, n_features = iris.data.shape\n",
        "print('Number of samples:', n_samples)\n",
        "print('Number of features:', n_features)\n",
        "# the sepal length, sepal width, petal length and petal width of\n",
        "# the first sample (first flower)\n",
        "print(iris.data[0])\n",
        "type(iris.data)\n",
        "# Flowers with the indices 12, 26, 89, and 114\n",
        "iris.data[[12, 26, 89, 114]]\n",
        "print(iris.data.shape)\n",
        "print(iris.target)\n",
        "print(iris.target.shape)\n",
        "np.bincount(iris.target)\n",
        "fig, ax = plt.subplots()\n",
        "#Iris data set has 4 features\n",
        "#0 = sepal length (cm)\n",
        "#1 = sepal width (cm)\n",
        "#2 = petal length (cm)\n",
        "#3 = petal width (cm)\n",
        "\n",
        "x_index = 2\n",
        "colors = ['blue', 'red', 'green']\n",
        "for label, color in zip(range(len(iris.target_names)), colors):\n",
        "  ax.hist(iris.data[iris.target==label, x_index],\n",
        "  label=iris.target_names[label],\n",
        "  color=color)\n",
        "ax.set_xlabel(iris.feature_names[x_index])\n",
        "ax.legend(loc='upper right')\n",
        "fig.show()\n",
        "\n",
        "\n"
      ]
    },
    {
      "cell_type": "code",
      "source": [
        "def get_sum(numbers):\n",
        "  total = 0\n",
        "  for number in numbers:\n",
        "    if number & 1 == 0 :\n",
        "      total += number\n",
        "  return total\n",
        "numbers = [0,1,2,3,4,5]\n",
        "print(get_sum(numbers))\n"
      ],
      "metadata": {
        "colab": {
          "base_uri": "https://localhost:8080/"
        },
        "id": "pwr0i2qFPzAy",
        "outputId": "2520a2ab-4f66-488f-cae1-1dab730a1313"
      },
      "execution_count": 3,
      "outputs": [
        {
          "output_type": "stream",
          "name": "stdout",
          "text": [
            "6\n"
          ]
        }
      ]
    }
  ]
}