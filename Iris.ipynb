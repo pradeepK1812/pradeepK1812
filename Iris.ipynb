{
  "nbformat": 4,
  "nbformat_minor": 0,
  "metadata": {
    "colab": {
      "provenance": [],
      "authorship_tag": "ABX9TyMIJu1Lti5rJXhvEqF0BCO2",
      "include_colab_link": true
    },
    "kernelspec": {
      "name": "python3",
      "display_name": "Python 3"
    },
    "language_info": {
      "name": "python"
    }
  },
  "cells": [
    {
      "cell_type": "markdown",
      "metadata": {
        "id": "view-in-github",
        "colab_type": "text"
      },
      "source": [
        "<a href=\"https://colab.research.google.com/github/pradeepK1812/pradeepK1812/blob/main/Iris.ipynb\" target=\"_parent\"><img src=\"https://colab.research.google.com/assets/colab-badge.svg\" alt=\"Open In Colab\"/></a>"
      ]
    },
    {
      "cell_type": "code",
      "execution_count": 11,
      "metadata": {
        "colab": {
          "base_uri": "https://localhost:8080/"
        },
        "id": "WDiuH85em8B9",
        "outputId": "6a56fe4a-ff4d-43f5-d23c-543b6fbd3f9f"
      },
      "outputs": [
        {
          "output_type": "stream",
          "name": "stdout",
          "text": [
            "['setosa' 'versicolor' 'virginica']\n",
            "['setosa' 'versicolor' 'virginica']\n",
            "Number of samples: 150\n",
            "Number of features: 4\n",
            "[5.1 3.5 1.4 0.2]\n",
            "(150, 4)\n",
            "[0 0 0 0 0 0 0 0 0 0 0 0 0 0 0 0 0 0 0 0 0 0 0 0 0 0 0 0 0 0 0 0 0 0 0 0 0\n",
            " 0 0 0 0 0 0 0 0 0 0 0 0 0 1 1 1 1 1 1 1 1 1 1 1 1 1 1 1 1 1 1 1 1 1 1 1 1\n",
            " 1 1 1 1 1 1 1 1 1 1 1 1 1 1 1 1 1 1 1 1 1 1 1 1 1 1 2 2 2 2 2 2 2 2 2 2 2\n",
            " 2 2 2 2 2 2 2 2 2 2 2 2 2 2 2 2 2 2 2 2 2 2 2 2 2 2 2 2 2 2 2 2 2 2 2 2 2\n",
            " 2 2]\n",
            "(150,)\n"
          ]
        },
        {
          "output_type": "execute_result",
          "data": {
            "text/plain": [
              "array([50, 50, 50])"
            ]
          },
          "metadata": {},
          "execution_count": 11
        }
      ],
      "source": [
        "from sklearn.datasets import load_iris\n",
        "import numpy as np\n",
        "iris = load_iris()\n",
        "type(iris)\n",
        "iris.keys()\n",
        "print(iris[\"target_names\"])\n",
        "print(iris.target_names)\n",
        "n_samples, n_features = iris.data.shape\n",
        "print('Number of samples:', n_samples)\n",
        "print('Number of features:', n_features)\n",
        "# the sepal length, sepal width, petal length and petal width of\n",
        "# the first sample (first flower)\n",
        "print(iris.data[0])\n",
        "type(iris.data)\n",
        "# Flowers with the indices 12, 26, 89, and 114\n",
        "iris.data[[12, 26, 89, 114]]\n",
        "print(iris.data.shape)\n",
        "print(iris.target)\n",
        "print(iris.target.shape)\n",
        "np.bincount(iris.target)\n",
        "\n"
      ]
    }
  ]
}