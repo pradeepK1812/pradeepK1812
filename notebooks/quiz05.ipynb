{
  "cells": [
    {
      "cell_type": "markdown",
      "metadata": {
        "id": "gRuScihx6mqr"
      },
      "source": [
        "# Quiz 5\n",
        "\n",
        "BEFORE YOU START THIS QUIZ:\n",
        "\n",
        "1. Click on \"Copy to Drive\" to make a copy of the quiz,\n",
        "\n",
        "2. Click on \"Share\",\n",
        "    \n",
        "3. Click on \"Change\" and select \"Anyone with this link can edit\"\n",
        "    \n",
        "4. Click \"Copy link\" and\n",
        "\n",
        "5. Paste the link into [this Canvas assignment](https://canvas.olin.edu/courses/313/assignments/5075)."
      ]
    },
    {
      "cell_type": "markdown",
      "metadata": {
        "id": "3VnQJCIv6mq1"
      },
      "source": [
        "This quiz is open notes, open internet.\n",
        "\n",
        "* You can ask for help from the instructor, but not from anyone else.\n",
        "\n",
        "* You can use code you find on the internet, but if you use more than a couple of lines from a single source, you should attribute the source.\n",
        "\n"
      ]
    },
    {
      "cell_type": "markdown",
      "metadata": {
        "id": "zPKvbQCw6mq6"
      },
      "source": [
        "## Install and Start Redis\n",
        "\n",
        "For this quiz, we will run Redis on Colab. The following cells install and start the server, install the client, and instantiate a `Redis` object."
      ]
    },
    {
      "cell_type": "code",
      "execution_count": 3,
      "metadata": {
        "id": "KaRqKXk76mq8"
      },
      "outputs": [],
      "source": [
        "\n",
        "\n",
        "import sys\n",
        "import os\n",
        "\n",
        "IN_COLAB = 'google.colab' in sys.modules\n",
        "\n",
        "if IN_COLAB:\n",
        "    # Install Redis using apt\n",
        "    os.system('apt-get update')\n",
        "    os.system('apt-get install -y redis-server')\n",
        "    # Start Redis in background\n",
        "    os.system('redis-server --daemonize yes')\n",
        "else:\n",
        "    # Assume redis-server is already installed on system\n",
        "    os.system('redis-server --daemonize yes')"
      ]
    },
    {
      "cell_type": "code",
      "execution_count": 4,
      "metadata": {
        "id": "C4YPzQWu6mrA",
        "outputId": "5c70bfd9-c8db-4896-dfc2-2aad7255d5ea",
        "colab": {
          "base_uri": "https://localhost:8080/"
        }
      },
      "outputs": [
        {
          "output_type": "stream",
          "name": "stdout",
          "text": [
            "Collecting redis\n",
            "  Downloading redis-6.2.0-py3-none-any.whl.metadata (10 kB)\n",
            "Downloading redis-6.2.0-py3-none-any.whl (278 kB)\n",
            "\u001b[?25l   \u001b[90m━━━━━━━━━━━━━━━━━━━━━━━━━━━━━━━━━━━━━━━━\u001b[0m \u001b[32m0.0/278.7 kB\u001b[0m \u001b[31m?\u001b[0m eta \u001b[36m-:--:--\u001b[0m\r\u001b[2K   \u001b[91m━━━━━━━━━━━━━━━━━━━━━━\u001b[0m\u001b[90m╺\u001b[0m\u001b[90m━━━━━━━━━━━━━━━━━\u001b[0m \u001b[32m153.6/278.7 kB\u001b[0m \u001b[31m4.3 MB/s\u001b[0m eta \u001b[36m0:00:01\u001b[0m\r\u001b[2K   \u001b[90m━━━━━━━━━━━━━━━━━━━━━━━━━━━━━━━━━━━━━━━━\u001b[0m \u001b[32m278.7/278.7 kB\u001b[0m \u001b[31m4.7 MB/s\u001b[0m eta \u001b[36m0:00:00\u001b[0m\n",
            "\u001b[?25hInstalling collected packages: redis\n",
            "Successfully installed redis-6.2.0\n"
          ]
        }
      ],
      "source": [
        "try:\n",
        "    import redis\n",
        "except ImportError:\n",
        "    !pip install redis"
      ]
    },
    {
      "cell_type": "code",
      "execution_count": 5,
      "metadata": {
        "id": "ta10oWeE6mrD"
      },
      "outputs": [],
      "source": [
        "import redis\n",
        "\n",
        "r = redis.Redis()"
      ]
    },
    {
      "cell_type": "markdown",
      "metadata": {
        "id": "2mjV0W2i6mrE"
      },
      "source": [
        "## Linda the Banker\n",
        "\n",
        "In a [famous experiment](https://en.wikipedia.org/wiki/Conjunction_fallacy), Tversky and Kahneman posed the following question:\n",
        "\n",
        "> Linda is 31 years old, single, outspoken, and very bright. She majored in philosophy. As a student, she was deeply concerned with issues of discrimination and social justice, and also participated in anti-nuclear demonstrations.  Which is more probable?\n",
        "> 1. Linda is a bank teller.\n",
        "> 2. Linda is a bank teller and is active in the feminist movement.\n",
        "\n",
        "Many people choose the second answer, presumably because it seems more consistent with the description.  It seems uncharacteristic if Linda is *just* a bank teller; it seems more consistent if she is also a feminist."
      ]
    },
    {
      "cell_type": "markdown",
      "metadata": {
        "id": "Q3TtxqjS6mrH"
      },
      "source": [
        "But the second answer cannot be \"more probable\", as the question asks.\n",
        "To see why, let's explore some data.\n",
        "The following cell downloads data from the [General Social Survey](http://www.gss.norc.org/)."
      ]
    },
    {
      "cell_type": "code",
      "execution_count": 6,
      "metadata": {
        "id": "nXsQK33R6mrI",
        "outputId": "da116ce4-9e7f-47ca-9196-6d3ae24dc69d",
        "colab": {
          "base_uri": "https://localhost:8080/"
        }
      },
      "outputs": [
        {
          "output_type": "stream",
          "name": "stdout",
          "text": [
            "Downloaded gss_bayes.csv\n"
          ]
        }
      ],
      "source": [
        "from os.path import basename, exists\n",
        "\n",
        "def download(url):\n",
        "    filename = basename(url)\n",
        "    if not exists(filename):\n",
        "        from urllib.request import urlretrieve\n",
        "        local, _ = urlretrieve(url, filename)\n",
        "        print('Downloaded ' + local)\n",
        "\n",
        "download('https://github.com/AllenDowney/BiteSizeBayes/raw/master/gss_bayes.csv')"
      ]
    },
    {
      "cell_type": "markdown",
      "metadata": {
        "id": "MSqwmR3K6mrM"
      },
      "source": [
        "The following cell loads the data into a Pandas `DataFrame`. If you are not familiar with Pandas, I will explain what you need to know."
      ]
    },
    {
      "cell_type": "code",
      "execution_count": 7,
      "metadata": {
        "id": "kdxdg1tZ6mrN",
        "outputId": "80a9933b-3429-4b6a-9e15-dab81a7934b2",
        "colab": {
          "base_uri": "https://localhost:8080/",
          "height": 237
        }
      },
      "outputs": [
        {
          "output_type": "execute_result",
          "data": {
            "text/plain": [
              "        year   age  sex  polviews  partyid  indus10\n",
              "caseid                                             \n",
              "0       1974  21.0    1       4.0      2.0   4970.0\n",
              "1       1974  41.0    1       5.0      0.0   9160.0\n",
              "2       1974  58.0    2       6.0      1.0   2670.0\n",
              "3       1974  30.0    1       5.0      4.0   6870.0\n",
              "4       1974  48.0    1       5.0      4.0   7860.0"
            ],
            "text/html": [
              "\n",
              "  <div id=\"df-05c3f47e-b533-495c-bf50-f07f3f63f637\" class=\"colab-df-container\">\n",
              "    <div>\n",
              "<style scoped>\n",
              "    .dataframe tbody tr th:only-of-type {\n",
              "        vertical-align: middle;\n",
              "    }\n",
              "\n",
              "    .dataframe tbody tr th {\n",
              "        vertical-align: top;\n",
              "    }\n",
              "\n",
              "    .dataframe thead th {\n",
              "        text-align: right;\n",
              "    }\n",
              "</style>\n",
              "<table border=\"1\" class=\"dataframe\">\n",
              "  <thead>\n",
              "    <tr style=\"text-align: right;\">\n",
              "      <th></th>\n",
              "      <th>year</th>\n",
              "      <th>age</th>\n",
              "      <th>sex</th>\n",
              "      <th>polviews</th>\n",
              "      <th>partyid</th>\n",
              "      <th>indus10</th>\n",
              "    </tr>\n",
              "    <tr>\n",
              "      <th>caseid</th>\n",
              "      <th></th>\n",
              "      <th></th>\n",
              "      <th></th>\n",
              "      <th></th>\n",
              "      <th></th>\n",
              "      <th></th>\n",
              "    </tr>\n",
              "  </thead>\n",
              "  <tbody>\n",
              "    <tr>\n",
              "      <th>0</th>\n",
              "      <td>1974</td>\n",
              "      <td>21.0</td>\n",
              "      <td>1</td>\n",
              "      <td>4.0</td>\n",
              "      <td>2.0</td>\n",
              "      <td>4970.0</td>\n",
              "    </tr>\n",
              "    <tr>\n",
              "      <th>1</th>\n",
              "      <td>1974</td>\n",
              "      <td>41.0</td>\n",
              "      <td>1</td>\n",
              "      <td>5.0</td>\n",
              "      <td>0.0</td>\n",
              "      <td>9160.0</td>\n",
              "    </tr>\n",
              "    <tr>\n",
              "      <th>2</th>\n",
              "      <td>1974</td>\n",
              "      <td>58.0</td>\n",
              "      <td>2</td>\n",
              "      <td>6.0</td>\n",
              "      <td>1.0</td>\n",
              "      <td>2670.0</td>\n",
              "    </tr>\n",
              "    <tr>\n",
              "      <th>3</th>\n",
              "      <td>1974</td>\n",
              "      <td>30.0</td>\n",
              "      <td>1</td>\n",
              "      <td>5.0</td>\n",
              "      <td>4.0</td>\n",
              "      <td>6870.0</td>\n",
              "    </tr>\n",
              "    <tr>\n",
              "      <th>4</th>\n",
              "      <td>1974</td>\n",
              "      <td>48.0</td>\n",
              "      <td>1</td>\n",
              "      <td>5.0</td>\n",
              "      <td>4.0</td>\n",
              "      <td>7860.0</td>\n",
              "    </tr>\n",
              "  </tbody>\n",
              "</table>\n",
              "</div>\n",
              "    <div class=\"colab-df-buttons\">\n",
              "\n",
              "  <div class=\"colab-df-container\">\n",
              "    <button class=\"colab-df-convert\" onclick=\"convertToInteractive('df-05c3f47e-b533-495c-bf50-f07f3f63f637')\"\n",
              "            title=\"Convert this dataframe to an interactive table.\"\n",
              "            style=\"display:none;\">\n",
              "\n",
              "  <svg xmlns=\"http://www.w3.org/2000/svg\" height=\"24px\" viewBox=\"0 -960 960 960\">\n",
              "    <path d=\"M120-120v-720h720v720H120Zm60-500h600v-160H180v160Zm220 220h160v-160H400v160Zm0 220h160v-160H400v160ZM180-400h160v-160H180v160Zm440 0h160v-160H620v160ZM180-180h160v-160H180v160Zm440 0h160v-160H620v160Z\"/>\n",
              "  </svg>\n",
              "    </button>\n",
              "\n",
              "  <style>\n",
              "    .colab-df-container {\n",
              "      display:flex;\n",
              "      gap: 12px;\n",
              "    }\n",
              "\n",
              "    .colab-df-convert {\n",
              "      background-color: #E8F0FE;\n",
              "      border: none;\n",
              "      border-radius: 50%;\n",
              "      cursor: pointer;\n",
              "      display: none;\n",
              "      fill: #1967D2;\n",
              "      height: 32px;\n",
              "      padding: 0 0 0 0;\n",
              "      width: 32px;\n",
              "    }\n",
              "\n",
              "    .colab-df-convert:hover {\n",
              "      background-color: #E2EBFA;\n",
              "      box-shadow: 0px 1px 2px rgba(60, 64, 67, 0.3), 0px 1px 3px 1px rgba(60, 64, 67, 0.15);\n",
              "      fill: #174EA6;\n",
              "    }\n",
              "\n",
              "    .colab-df-buttons div {\n",
              "      margin-bottom: 4px;\n",
              "    }\n",
              "\n",
              "    [theme=dark] .colab-df-convert {\n",
              "      background-color: #3B4455;\n",
              "      fill: #D2E3FC;\n",
              "    }\n",
              "\n",
              "    [theme=dark] .colab-df-convert:hover {\n",
              "      background-color: #434B5C;\n",
              "      box-shadow: 0px 1px 3px 1px rgba(0, 0, 0, 0.15);\n",
              "      filter: drop-shadow(0px 1px 2px rgba(0, 0, 0, 0.3));\n",
              "      fill: #FFFFFF;\n",
              "    }\n",
              "  </style>\n",
              "\n",
              "    <script>\n",
              "      const buttonEl =\n",
              "        document.querySelector('#df-05c3f47e-b533-495c-bf50-f07f3f63f637 button.colab-df-convert');\n",
              "      buttonEl.style.display =\n",
              "        google.colab.kernel.accessAllowed ? 'block' : 'none';\n",
              "\n",
              "      async function convertToInteractive(key) {\n",
              "        const element = document.querySelector('#df-05c3f47e-b533-495c-bf50-f07f3f63f637');\n",
              "        const dataTable =\n",
              "          await google.colab.kernel.invokeFunction('convertToInteractive',\n",
              "                                                    [key], {});\n",
              "        if (!dataTable) return;\n",
              "\n",
              "        const docLinkHtml = 'Like what you see? Visit the ' +\n",
              "          '<a target=\"_blank\" href=https://colab.research.google.com/notebooks/data_table.ipynb>data table notebook</a>'\n",
              "          + ' to learn more about interactive tables.';\n",
              "        element.innerHTML = '';\n",
              "        dataTable['output_type'] = 'display_data';\n",
              "        await google.colab.output.renderOutput(dataTable, element);\n",
              "        const docLink = document.createElement('div');\n",
              "        docLink.innerHTML = docLinkHtml;\n",
              "        element.appendChild(docLink);\n",
              "      }\n",
              "    </script>\n",
              "  </div>\n",
              "\n",
              "\n",
              "    <div id=\"df-deaad219-7f79-444a-9477-6c1b2b4154c3\">\n",
              "      <button class=\"colab-df-quickchart\" onclick=\"quickchart('df-deaad219-7f79-444a-9477-6c1b2b4154c3')\"\n",
              "                title=\"Suggest charts\"\n",
              "                style=\"display:none;\">\n",
              "\n",
              "<svg xmlns=\"http://www.w3.org/2000/svg\" height=\"24px\"viewBox=\"0 0 24 24\"\n",
              "     width=\"24px\">\n",
              "    <g>\n",
              "        <path d=\"M19 3H5c-1.1 0-2 .9-2 2v14c0 1.1.9 2 2 2h14c1.1 0 2-.9 2-2V5c0-1.1-.9-2-2-2zM9 17H7v-7h2v7zm4 0h-2V7h2v10zm4 0h-2v-4h2v4z\"/>\n",
              "    </g>\n",
              "</svg>\n",
              "      </button>\n",
              "\n",
              "<style>\n",
              "  .colab-df-quickchart {\n",
              "      --bg-color: #E8F0FE;\n",
              "      --fill-color: #1967D2;\n",
              "      --hover-bg-color: #E2EBFA;\n",
              "      --hover-fill-color: #174EA6;\n",
              "      --disabled-fill-color: #AAA;\n",
              "      --disabled-bg-color: #DDD;\n",
              "  }\n",
              "\n",
              "  [theme=dark] .colab-df-quickchart {\n",
              "      --bg-color: #3B4455;\n",
              "      --fill-color: #D2E3FC;\n",
              "      --hover-bg-color: #434B5C;\n",
              "      --hover-fill-color: #FFFFFF;\n",
              "      --disabled-bg-color: #3B4455;\n",
              "      --disabled-fill-color: #666;\n",
              "  }\n",
              "\n",
              "  .colab-df-quickchart {\n",
              "    background-color: var(--bg-color);\n",
              "    border: none;\n",
              "    border-radius: 50%;\n",
              "    cursor: pointer;\n",
              "    display: none;\n",
              "    fill: var(--fill-color);\n",
              "    height: 32px;\n",
              "    padding: 0;\n",
              "    width: 32px;\n",
              "  }\n",
              "\n",
              "  .colab-df-quickchart:hover {\n",
              "    background-color: var(--hover-bg-color);\n",
              "    box-shadow: 0 1px 2px rgba(60, 64, 67, 0.3), 0 1px 3px 1px rgba(60, 64, 67, 0.15);\n",
              "    fill: var(--button-hover-fill-color);\n",
              "  }\n",
              "\n",
              "  .colab-df-quickchart-complete:disabled,\n",
              "  .colab-df-quickchart-complete:disabled:hover {\n",
              "    background-color: var(--disabled-bg-color);\n",
              "    fill: var(--disabled-fill-color);\n",
              "    box-shadow: none;\n",
              "  }\n",
              "\n",
              "  .colab-df-spinner {\n",
              "    border: 2px solid var(--fill-color);\n",
              "    border-color: transparent;\n",
              "    border-bottom-color: var(--fill-color);\n",
              "    animation:\n",
              "      spin 1s steps(1) infinite;\n",
              "  }\n",
              "\n",
              "  @keyframes spin {\n",
              "    0% {\n",
              "      border-color: transparent;\n",
              "      border-bottom-color: var(--fill-color);\n",
              "      border-left-color: var(--fill-color);\n",
              "    }\n",
              "    20% {\n",
              "      border-color: transparent;\n",
              "      border-left-color: var(--fill-color);\n",
              "      border-top-color: var(--fill-color);\n",
              "    }\n",
              "    30% {\n",
              "      border-color: transparent;\n",
              "      border-left-color: var(--fill-color);\n",
              "      border-top-color: var(--fill-color);\n",
              "      border-right-color: var(--fill-color);\n",
              "    }\n",
              "    40% {\n",
              "      border-color: transparent;\n",
              "      border-right-color: var(--fill-color);\n",
              "      border-top-color: var(--fill-color);\n",
              "    }\n",
              "    60% {\n",
              "      border-color: transparent;\n",
              "      border-right-color: var(--fill-color);\n",
              "    }\n",
              "    80% {\n",
              "      border-color: transparent;\n",
              "      border-right-color: var(--fill-color);\n",
              "      border-bottom-color: var(--fill-color);\n",
              "    }\n",
              "    90% {\n",
              "      border-color: transparent;\n",
              "      border-bottom-color: var(--fill-color);\n",
              "    }\n",
              "  }\n",
              "</style>\n",
              "\n",
              "      <script>\n",
              "        async function quickchart(key) {\n",
              "          const quickchartButtonEl =\n",
              "            document.querySelector('#' + key + ' button');\n",
              "          quickchartButtonEl.disabled = true;  // To prevent multiple clicks.\n",
              "          quickchartButtonEl.classList.add('colab-df-spinner');\n",
              "          try {\n",
              "            const charts = await google.colab.kernel.invokeFunction(\n",
              "                'suggestCharts', [key], {});\n",
              "          } catch (error) {\n",
              "            console.error('Error during call to suggestCharts:', error);\n",
              "          }\n",
              "          quickchartButtonEl.classList.remove('colab-df-spinner');\n",
              "          quickchartButtonEl.classList.add('colab-df-quickchart-complete');\n",
              "        }\n",
              "        (() => {\n",
              "          let quickchartButtonEl =\n",
              "            document.querySelector('#df-deaad219-7f79-444a-9477-6c1b2b4154c3 button');\n",
              "          quickchartButtonEl.style.display =\n",
              "            google.colab.kernel.accessAllowed ? 'block' : 'none';\n",
              "        })();\n",
              "      </script>\n",
              "    </div>\n",
              "\n",
              "    </div>\n",
              "  </div>\n"
            ],
            "application/vnd.google.colaboratory.intrinsic+json": {
              "type": "dataframe",
              "variable_name": "gss",
              "summary": "{\n  \"name\": \"gss\",\n  \"rows\": 49290,\n  \"fields\": [\n    {\n      \"column\": \"caseid\",\n      \"properties\": {\n        \"dtype\": \"number\",\n        \"std\": 14228,\n        \"min\": 0,\n        \"max\": 49289,\n        \"num_unique_values\": 49290,\n        \"samples\": [\n          18999,\n          40311,\n          12591\n        ],\n        \"semantic_type\": \"\",\n        \"description\": \"\"\n      }\n    },\n    {\n      \"column\": \"year\",\n      \"properties\": {\n        \"dtype\": \"number\",\n        \"std\": 12,\n        \"min\": 1974,\n        \"max\": 2016,\n        \"num_unique_values\": 29,\n        \"samples\": [\n          2014,\n          1993,\n          1988\n        ],\n        \"semantic_type\": \"\",\n        \"description\": \"\"\n      }\n    },\n    {\n      \"column\": \"age\",\n      \"properties\": {\n        \"dtype\": \"number\",\n        \"std\": 17.111419865577247,\n        \"min\": 18.0,\n        \"max\": 89.0,\n        \"num_unique_values\": 72,\n        \"samples\": [\n          48.0,\n          81.0,\n          60.0\n        ],\n        \"semantic_type\": \"\",\n        \"description\": \"\"\n      }\n    },\n    {\n      \"column\": \"sex\",\n      \"properties\": {\n        \"dtype\": \"number\",\n        \"std\": 0,\n        \"min\": 1,\n        \"max\": 2,\n        \"num_unique_values\": 2,\n        \"samples\": [\n          2,\n          1\n        ],\n        \"semantic_type\": \"\",\n        \"description\": \"\"\n      }\n    },\n    {\n      \"column\": \"polviews\",\n      \"properties\": {\n        \"dtype\": \"number\",\n        \"std\": 1.37716014636595,\n        \"min\": 1.0,\n        \"max\": 7.0,\n        \"num_unique_values\": 7,\n        \"samples\": [\n          4.0,\n          5.0\n        ],\n        \"semantic_type\": \"\",\n        \"description\": \"\"\n      }\n    },\n    {\n      \"column\": \"partyid\",\n      \"properties\": {\n        \"dtype\": \"number\",\n        \"std\": 2.0481080935727745,\n        \"min\": 0.0,\n        \"max\": 7.0,\n        \"num_unique_values\": 8,\n        \"samples\": [\n          0.0,\n          7.0\n        ],\n        \"semantic_type\": \"\",\n        \"description\": \"\"\n      }\n    },\n    {\n      \"column\": \"indus10\",\n      \"properties\": {\n        \"dtype\": \"number\",\n        \"std\": 2796.2950688567635,\n        \"min\": 170.0,\n        \"max\": 9870.0,\n        \"num_unique_values\": 270,\n        \"samples\": [\n          6670.0,\n          8560.0\n        ],\n        \"semantic_type\": \"\",\n        \"description\": \"\"\n      }\n    }\n  ]\n}"
            }
          },
          "metadata": {},
          "execution_count": 7
        }
      ],
      "source": [
        "import pandas as pd\n",
        "\n",
        "gss = pd.read_csv('gss_bayes.csv', index_col=0)\n",
        "gss.index = pd.Index(range(len(gss)), name='caseid')\n",
        "gss.head()"
      ]
    },
    {
      "cell_type": "markdown",
      "metadata": {
        "id": "hMFP-0886mrP"
      },
      "source": [
        "The `DataFrame` has one row for each person surveyed, called a \"respondent\", and one column for each variable I selected.\n",
        "The columns are:\n",
        "\n",
        "* `caseid`: Identification number for the respondent.\n",
        "\n",
        "* `year`: Year when the respondent was surveyed.\n",
        "\n",
        "* `age`: Respondent's age when surveyed.\n",
        "\n",
        "* `sex`: Male or female.\n",
        "\n",
        "* `polviews`: Political views on a range from liberal to conservative.\n",
        "\n",
        "* `partyid`: Political party affiliation, Democrat, Independent, or Republican.\n",
        "\n",
        "* `indus10`: [Code](https://www.census.gov/cgi-bin/sssd/naics/naicsrch?chart=2007) for the industry the respondent works in."
      ]
    },
    {
      "cell_type": "markdown",
      "metadata": {
        "id": "YAaRL0ct6mrQ"
      },
      "source": [
        "We will use Redis sets to explore the relationships among these variables.\n",
        "Specifically, we will answer the following questions related to the \"Linda problem\".\n",
        "\n",
        "* The number of respondents who are female bankers,\n",
        "\n",
        "* The number of respondents who are liberal female banker.\n",
        "\n",
        "And we will see that the second number is smaller than the first."
      ]
    },
    {
      "cell_type": "markdown",
      "metadata": {
        "id": "DZYUSYF36mrS"
      },
      "source": [
        "## Iterating rows\n",
        "\n",
        "The following loop iterates the first 3 rows in the `DataFrame` and prints the `caseid` and the contents of the row."
      ]
    },
    {
      "cell_type": "code",
      "execution_count": 8,
      "metadata": {
        "tags": [],
        "id": "YYPi6ZMe6mrT",
        "outputId": "a5b16e6c-1c92-4d30-d17b-8a55d60cfe1a",
        "colab": {
          "base_uri": "https://localhost:8080/"
        }
      },
      "outputs": [
        {
          "output_type": "stream",
          "name": "stdout",
          "text": [
            "0\n",
            "year        1974.0\n",
            "age           21.0\n",
            "sex            1.0\n",
            "polviews       4.0\n",
            "partyid        2.0\n",
            "indus10     4970.0\n",
            "Name: 0, dtype: float64\n",
            "1\n",
            "year        1974.0\n",
            "age           41.0\n",
            "sex            1.0\n",
            "polviews       5.0\n",
            "partyid        0.0\n",
            "indus10     9160.0\n",
            "Name: 1, dtype: float64\n",
            "2\n",
            "year        1974.0\n",
            "age           58.0\n",
            "sex            2.0\n",
            "polviews       6.0\n",
            "partyid        1.0\n",
            "indus10     2670.0\n",
            "Name: 2, dtype: float64\n",
            "3\n",
            "year        1974.0\n",
            "age           30.0\n",
            "sex            1.0\n",
            "polviews       5.0\n",
            "partyid        4.0\n",
            "indus10     6870.0\n",
            "Name: 3, dtype: float64\n"
          ]
        }
      ],
      "source": [
        "for caseid, row in gss.iterrows():\n",
        "    print(caseid)\n",
        "    print(row)\n",
        "    if caseid >= 3:\n",
        "        break"
      ]
    },
    {
      "cell_type": "markdown",
      "metadata": {
        "id": "AA798Dnz6mrU"
      },
      "source": [
        "The following loop iterates through the `DataFrame` and makes a set containing the `caseid` for the rows where the industry code is 6870, which indicates that the respondent works in banking."
      ]
    },
    {
      "cell_type": "code",
      "execution_count": 9,
      "metadata": {
        "tags": [],
        "id": "f9TU518I6mrV",
        "outputId": "201697a7-db47-460b-8b00-9690f9fb7193",
        "colab": {
          "base_uri": "https://localhost:8080/"
        }
      },
      "outputs": [
        {
          "output_type": "execute_result",
          "data": {
            "text/plain": [
              "728"
            ]
          },
          "metadata": {},
          "execution_count": 9
        }
      ],
      "source": [
        "bankers = set()\n",
        "\n",
        "for caseid, row in gss.iterrows():\n",
        "    if row.indus10 == 6870:\n",
        "        bankers.add(caseid)\n",
        "\n",
        "len(bankers)"
      ]
    },
    {
      "cell_type": "markdown",
      "metadata": {
        "id": "42CCyNmx6mrW"
      },
      "source": [
        "Now let's do the same thing using a Redis set."
      ]
    },
    {
      "cell_type": "markdown",
      "metadata": {
        "id": "u82asUEg6mrX"
      },
      "source": [
        "## Question 1\n",
        "\n",
        "The following loop creates a Redis set that contains the `caseid` for all respondents whose `indus10` is `6870`."
      ]
    },
    {
      "cell_type": "code",
      "execution_count": 10,
      "metadata": {
        "tags": [],
        "id": "tsI-PYa_6mrY"
      },
      "outputs": [],
      "source": [
        "banker_key = 'gss_set:bankers'\n",
        "\n",
        "for caseid, row in gss.iterrows():\n",
        "    if row.indus10 == 6870:\n",
        "        r.sadd(banker_key, caseid)"
      ]
    },
    {
      "cell_type": "markdown",
      "metadata": {
        "id": "CAeMy2GC6mrZ"
      },
      "source": [
        "Write a Redis command to get the number of elements in the resulting set.\n",
        "\n",
        "Here's the [documentation for Redis set commands](https://redis.io/commands#set).\n"
      ]
    },
    {
      "cell_type": "code",
      "execution_count": 11,
      "metadata": {
        "tags": [],
        "id": "E9QYhB7_6mra",
        "outputId": "57f49069-eb6e-47c6-8add-e3a5b4b6c637",
        "colab": {
          "base_uri": "https://localhost:8080/"
        }
      },
      "outputs": [
        {
          "output_type": "execute_result",
          "data": {
            "text/plain": [
              "728"
            ]
          },
          "metadata": {},
          "execution_count": 11
        }
      ],
      "source": [
        "r.scard(banker_key)\n"
      ]
    },
    {
      "cell_type": "markdown",
      "metadata": {
        "id": "V3yFy6Bk6mrb"
      },
      "source": [
        "## Question 2\n",
        "\n",
        "The following cell makes a Python set that contains the `caseid` of all respondents who identify as female."
      ]
    },
    {
      "cell_type": "code",
      "execution_count": 12,
      "metadata": {
        "tags": [],
        "id": "GiT4Poe06mrc",
        "outputId": "646ea921-f9f3-4240-d710-9f0ce6100c2b",
        "colab": {
          "base_uri": "https://localhost:8080/"
        }
      },
      "outputs": [
        {
          "output_type": "execute_result",
          "data": {
            "text/plain": [
              "26511"
            ]
          },
          "metadata": {},
          "execution_count": 12
        }
      ],
      "source": [
        "female = set()\n",
        "\n",
        "for caseid, row in gss.iterrows():\n",
        "    if row.sex == 2:\n",
        "        female.add(caseid)\n",
        "\n",
        "len(female)"
      ]
    },
    {
      "cell_type": "markdown",
      "metadata": {
        "id": "5-lL0DuQ6mrd"
      },
      "source": [
        "The following cell makes a Python set that includes the `caseid` for people who self-identify as \"Extremely liberal\", \"Liberal\", or \"Slightly liberal\"."
      ]
    },
    {
      "cell_type": "code",
      "execution_count": null,
      "metadata": {
        "tags": [],
        "id": "7eSXWoM76mrf"
      },
      "outputs": [],
      "source": [
        "liberal = set()\n",
        "\n",
        "for caseid, row in gss.iterrows():\n",
        "    if row.polviews <= 3:\n",
        "        liberal.add(caseid)\n",
        "\n",
        "len(liberal)"
      ]
    },
    {
      "cell_type": "markdown",
      "metadata": {
        "id": "aRt_nwaW6mrf"
      },
      "source": [
        "Write versions of these loops that create these sets on Redis, and display the number of elements in each set.\n",
        "For the keys, use the following strings:"
      ]
    },
    {
      "cell_type": "code",
      "execution_count": null,
      "metadata": {
        "tags": [],
        "id": "UMr8FRpQ6mrg"
      },
      "outputs": [],
      "source": [
        "female_key = 'gss_set:female'\n",
        "liberal_key = 'gss_set:liberal'"
      ]
    },
    {
      "cell_type": "code",
      "execution_count": 14,
      "metadata": {
        "tags": [],
        "id": "9Yabfu4s6mrh"
      },
      "outputs": [],
      "source": [
        "female_key = 'gss_set:female'\n",
        "for caseid, row in gss.iterrows():\n",
        "    if row.sex == 2:\n",
        "        r.sadd(female_key,caseid)"
      ]
    },
    {
      "cell_type": "code",
      "execution_count": 19,
      "metadata": {
        "tags": [],
        "id": "dD7wsCin6mri",
        "outputId": "773145be-6d11-4072-8fa7-35c8c2c38984",
        "colab": {
          "base_uri": "https://localhost:8080/"
        }
      },
      "outputs": [
        {
          "output_type": "execute_result",
          "data": {
            "text/plain": [
              "13493"
            ]
          },
          "metadata": {},
          "execution_count": 19
        }
      ],
      "source": [
        "liberal_key = 'gss_set:liberal'\n",
        "for caseid, row in gss.iterrows():\n",
        "    if row.polviews <= 3:\n",
        "        r.sadd(liberal_key,caseid)\n",
        "\n",
        "r.scard(liberal_key)"
      ]
    },
    {
      "cell_type": "markdown",
      "metadata": {
        "id": "g6aj5nCT6mri"
      },
      "source": [
        "Before you go on, make sure you have three sets on Redis, and the number of elements in each set is consistent with the results we got with Python sets.\n",
        "\n",
        "If you make a mistake, you can use `delete` to start with a fresh, empty set.\n",
        "Or you can use the following loop to start with a fresh, empty database."
      ]
    },
    {
      "cell_type": "code",
      "execution_count": null,
      "metadata": {
        "id": "fSdY7wGf6mrj"
      },
      "outputs": [],
      "source": [
        "#for key in r.keys():\n",
        "#    r.delete(key)"
      ]
    },
    {
      "cell_type": "markdown",
      "metadata": {
        "id": "kAAJeJQN6mrk"
      },
      "source": [
        "## Question 3\n",
        "\n",
        "One of the strengths of Redis is that it provides functions that perform computations on the server, including a function that computes the intersection of two or more sets.\n",
        "\n",
        "Write Redis commands to compute:\n",
        "\n",
        "1) A set of `caseid` values for respondents who are female bankers.\n",
        "\n",
        "2) A set of `caseid` values for respondents who are liberal female bankers.\n",
        "\n",
        "Confirm that the second set is, in fact, smaller than the first."
      ]
    },
    {
      "cell_type": "code",
      "execution_count": 27,
      "metadata": {
        "id": "ExznNRia6mrm",
        "outputId": "ecf8d671-bfcd-4abd-e119-929807ab44aa",
        "colab": {
          "base_uri": "https://localhost:8080/"
        }
      },
      "outputs": [
        {
          "output_type": "execute_result",
          "data": {
            "text/plain": [
              "561"
            ]
          },
          "metadata": {},
          "execution_count": 27
        }
      ],
      "source": [
        "\n",
        "r.sinterstore(\"female_bankers\", female_key, banker_key)\n",
        "len(r.smembers(\"female_bankers\"))"
      ]
    },
    {
      "cell_type": "code",
      "execution_count": 35,
      "metadata": {
        "id": "vZ3En2pL6mrn",
        "outputId": "4bfbef1b-f44c-4888-8170-c8def73470b8",
        "colab": {
          "base_uri": "https://localhost:8080/"
        }
      },
      "outputs": [
        {
          "output_type": "execute_result",
          "data": {
            "text/plain": [
              "126"
            ]
          },
          "metadata": {},
          "execution_count": 35
        }
      ],
      "source": [
        "r.sinterstore(\"female_bankers\", female_key, banker_key)\n",
        "l_f_b = r.sinter(liberal_key,\"female_bankers\" )\n",
        "len(l_f_b)\n"
      ]
    },
    {
      "cell_type": "code",
      "execution_count": null,
      "metadata": {
        "id": "ZCVlornP6mro"
      },
      "outputs": [],
      "source": []
    },
    {
      "cell_type": "code",
      "execution_count": null,
      "metadata": {
        "id": "50cVEg506mro"
      },
      "outputs": [],
      "source": []
    },
    {
      "cell_type": "markdown",
      "metadata": {
        "id": "CAGybESx6mro"
      },
      "source": [
        "## Question 4\n",
        "\n",
        "Now suppose you want to look up a `caseid` and find all of the sets it belongs to.\n",
        "\n",
        "Write a function called `find_tags` that takes a `caseid` and returns a set of strings, where each string is the key of a set that contains the `caseid`.\n",
        "\n",
        "For example, if the `caseid` is 33, the result should be the set\n",
        "\n",
        "```\n",
        "{b'gss_set:bankers', b'gss_set:female'}\n",
        "```\n",
        "\n",
        "which indicates that this respondent is a female banker (but not liberal)."
      ]
    },
    {
      "cell_type": "code",
      "execution_count": 38,
      "metadata": {
        "id": "cy4Q5BlY6mrq"
      },
      "outputs": [],
      "source": [
        "def find_tags(caseid):\n",
        "  set_case_id = set()\n",
        "  for key in r.keys():\n",
        "    if r.sismember(key,caseid):\n",
        "      set_case_id.add(key)\n",
        "  return set_case_id"
      ]
    },
    {
      "cell_type": "markdown",
      "metadata": {
        "id": "K82s1Llk6mr4"
      },
      "source": [
        "You can use the following examples to test your function. You should find that the respondent with `caseid` 33 is a female banker."
      ]
    },
    {
      "cell_type": "code",
      "execution_count": 39,
      "metadata": {
        "id": "ArABbAvu6mr5",
        "outputId": "352f2068-72e1-4e86-a981-d74bc2abf15c",
        "colab": {
          "base_uri": "https://localhost:8080/"
        }
      },
      "outputs": [
        {
          "output_type": "execute_result",
          "data": {
            "text/plain": [
              "{b'female_bankers', b'gss_set:bankers', b'gss_set:female'}"
            ]
          },
          "metadata": {},
          "execution_count": 39
        }
      ],
      "source": [
        "find_tags(33)"
      ]
    },
    {
      "cell_type": "markdown",
      "metadata": {
        "id": "a_tmUjQ36mr7"
      },
      "source": [
        "And the respondent with `caseid` 451 is a liberal female banker."
      ]
    },
    {
      "cell_type": "code",
      "execution_count": 40,
      "metadata": {
        "id": "mSnP-aGH6mr7",
        "outputId": "fe4f37b2-d5a5-42eb-fe59-fc006087e8ef",
        "colab": {
          "base_uri": "https://localhost:8080/"
        }
      },
      "outputs": [
        {
          "output_type": "execute_result",
          "data": {
            "text/plain": [
              "{b'female_bankers', b'gss_set:bankers', b'gss_set:female', b'gss_set:liberal'}"
            ]
          },
          "metadata": {},
          "execution_count": 40
        }
      ],
      "source": [
        "find_tags(451)"
      ]
    },
    {
      "cell_type": "markdown",
      "metadata": {
        "id": "O238Lcph6mr8"
      },
      "source": [
        "## Just For Fun Extra Question\n",
        "\n",
        "Suppose there are a large number of sets and you often want to look up a `caseid` and find the sets it belongs to.\n",
        "\n",
        "Iterate through the sets we've defined so far and make a reverse index that maps from each `caseid` to a list of keys for the sets it belongs to."
      ]
    },
    {
      "cell_type": "code",
      "execution_count": null,
      "metadata": {
        "id": "5a7pOVR26mr9"
      },
      "outputs": [],
      "source": []
    },
    {
      "cell_type": "code",
      "execution_count": null,
      "metadata": {
        "id": "EKh3yzo66mr9"
      },
      "outputs": [],
      "source": []
    },
    {
      "cell_type": "code",
      "execution_count": null,
      "metadata": {
        "id": "wz2iAZDw6mr9"
      },
      "outputs": [],
      "source": []
    },
    {
      "cell_type": "markdown",
      "metadata": {
        "id": "3Aypy7AW6mr-"
      },
      "source": [
        "*Data Structures and Information Retrieval in Python*\n",
        "\n",
        "Copyright 2021 Allen Downey\n",
        "\n",
        "License: [Creative Commons Attribution-NonCommercial-ShareAlike 4.0 International](https://creativecommons.org/licenses/by-nc-sa/4.0/)"
      ]
    },
    {
      "cell_type": "code",
      "execution_count": null,
      "metadata": {
        "id": "xevvgSun6mr-"
      },
      "outputs": [],
      "source": []
    }
  ],
  "metadata": {
    "kernelspec": {
      "display_name": "Python 3 (ipykernel)",
      "language": "python",
      "name": "python3"
    },
    "language_info": {
      "codemirror_mode": {
        "name": "ipython",
        "version": 3
      },
      "file_extension": ".py",
      "mimetype": "text/x-python",
      "name": "python",
      "nbconvert_exporter": "python",
      "pygments_lexer": "ipython3",
      "version": "3.9.7"
    },
    "colab": {
      "provenance": []
    }
  },
  "nbformat": 4,
  "nbformat_minor": 0
}