{
  "cells": [
    {
      "cell_type": "markdown",
      "id": "af0fce85",
      "metadata": {
        "id": "af0fce85"
      },
      "source": [
        "# Deque"
      ]
    },
    {
      "cell_type": "markdown",
      "id": "c91bcf8f",
      "metadata": {
        "id": "c91bcf8f"
      },
      "source": [
        "[Click here to run this chapter on Colab](https://colab.research.google.com/github/AllenDowney/DSIRP/blob/main/notebooks/deque.ipynb)"
      ]
    },
    {
      "cell_type": "markdown",
      "id": "394c2889",
      "metadata": {
        "id": "394c2889"
      },
      "source": [
        "## Double-ended Queue\n",
        "\n",
        "With Python lists, we can add and remove elements from the *end* of the list in constant time, but adding and removing from the beginning takes linear time.\n",
        "That's because Python lists are implemented using arrays that grow dynamically.\n",
        "\n",
        "With linked lists, we can add and remove elements from the *beginning* of the list in constant time, but adding and removing from the end takes linear time.\n",
        "\n",
        "With either of these implementations, it is easy to make a stack, that is, a collection where the first element we add is the last element we remove. A stack is also called a \"first-in, last-out\" queue, abbreviated FILO.\n",
        "\n",
        "But it is not easy to implement a \"first-in, first-out\" queue, that is, a collection where the first element we add is the *first* element we remove.\n",
        "\n",
        "Fortunately, there are ways to implement lists that can add and remove elements from both ends in constant time.\n",
        "A collection that has this property is called a double-ended queue, abbreviated \"deque\" and pronounced like \"deck\".\n",
        "\n",
        "One way to implement a deque is a doubly-linked list, also known as a \"head-tail linked list\".\n",
        "Each node in a doubly-linked list has a reference to the previous node in the list as well as the next element, which I will call `left` and `right`.\n"
      ]
    },
    {
      "cell_type": "code",
      "execution_count": 2,
      "id": "c3eda892",
      "metadata": {
        "id": "c3eda892"
      },
      "outputs": [],
      "source": [
        "class Node:\n",
        "    def __init__(self, data, left=None, right=None):\n",
        "        self.data = data\n",
        "        self.left = left\n",
        "        self.right = right\n",
        "\n",
        "    def __repr__(self):\n",
        "        return f'Node({self.data})'"
      ]
    },
    {
      "cell_type": "markdown",
      "id": "bbf5ad6f",
      "metadata": {
        "id": "bbf5ad6f"
      },
      "source": [
        "We can create nodes like this:"
      ]
    },
    {
      "cell_type": "code",
      "execution_count": 3,
      "id": "3eb18535",
      "metadata": {
        "tags": [],
        "colab": {
          "base_uri": "https://localhost:8080/"
        },
        "id": "3eb18535",
        "outputId": "2951e87b-447e-494e-f84c-f2523eeed246"
      },
      "outputs": [
        {
          "output_type": "execute_result",
          "data": {
            "text/plain": [
              "Node(1)"
            ]
          },
          "metadata": {},
          "execution_count": 3
        }
      ],
      "source": [
        "node1 = Node(1)\n",
        "node2 = Node(2)\n",
        "node3 = Node(3)\n",
        "\n",
        "node1"
      ]
    },
    {
      "cell_type": "markdown",
      "id": "fdfd0222",
      "metadata": {
        "id": "fdfd0222"
      },
      "source": [
        "And then link them up, like this:"
      ]
    },
    {
      "cell_type": "code",
      "execution_count": 4,
      "id": "80748b5d",
      "metadata": {
        "tags": [],
        "id": "80748b5d"
      },
      "outputs": [],
      "source": [
        "node1.right = node2\n",
        "node2.right = node3\n",
        "\n",
        "node2.left = node1\n",
        "node3.left = node2"
      ]
    },
    {
      "cell_type": "markdown",
      "id": "889fdd16",
      "metadata": {
        "id": "889fdd16"
      },
      "source": [
        "To traverse the list from left to right, we can start at the beginning and follow the `right` links."
      ]
    },
    {
      "cell_type": "code",
      "execution_count": 5,
      "id": "ca630b64",
      "metadata": {
        "colab": {
          "base_uri": "https://localhost:8080/"
        },
        "id": "ca630b64",
        "outputId": "cdc517aa-f357-4585-c46d-1a63242942f7"
      },
      "outputs": [
        {
          "output_type": "stream",
          "name": "stdout",
          "text": [
            "Node(1)\n",
            "Node(2)\n",
            "Node(3)\n"
          ]
        }
      ],
      "source": [
        "node = node1\n",
        "while node:\n",
        "    print(node)\n",
        "    node = node.right"
      ]
    },
    {
      "cell_type": "markdown",
      "id": "016025b3",
      "metadata": {
        "id": "016025b3"
      },
      "source": [
        "To traverse from right to left, we start and the end and follow the `left` links."
      ]
    },
    {
      "cell_type": "code",
      "execution_count": 6,
      "id": "a259cbd5",
      "metadata": {
        "colab": {
          "base_uri": "https://localhost:8080/"
        },
        "id": "a259cbd5",
        "outputId": "e33013de-751d-446d-e534-5ddf1d37799e"
      },
      "outputs": [
        {
          "output_type": "stream",
          "name": "stdout",
          "text": [
            "Node(3)\n",
            "Node(2)\n",
            "Node(1)\n"
          ]
        }
      ],
      "source": [
        "node = node3\n",
        "while node:\n",
        "    print(node)\n",
        "    node = node.left"
      ]
    },
    {
      "cell_type": "markdown",
      "id": "f21575f6",
      "metadata": {
        "id": "f21575f6"
      },
      "source": [
        "## Deque objects\n",
        "\n",
        "For some operations, it will be convenient to have another object that represents the whole list (as opposed to one of its nodes).\n",
        "\n",
        "Here's the class definition."
      ]
    },
    {
      "cell_type": "code",
      "execution_count": 7,
      "id": "f1c32da2",
      "metadata": {
        "id": "f1c32da2"
      },
      "outputs": [],
      "source": [
        "class Deque:\n",
        "    def __init__(self, head=None, tail=None):\n",
        "        self.head = head\n",
        "        self.tail = tail\n",
        "\n",
        "    def __repr__(self):\n",
        "        return f'LinkedList({self.head}, {self.tail})'"
      ]
    },
    {
      "cell_type": "markdown",
      "id": "c41fb536",
      "metadata": {
        "id": "c41fb536"
      },
      "source": [
        "Now we can create a `Deque` with references to `node1` and `node3`:"
      ]
    },
    {
      "cell_type": "code",
      "execution_count": 8,
      "id": "f8def755",
      "metadata": {
        "tags": [],
        "colab": {
          "base_uri": "https://localhost:8080/"
        },
        "id": "f8def755",
        "outputId": "a21ca511-5b68-4020-acd2-d683152091c0"
      },
      "outputs": [
        {
          "output_type": "execute_result",
          "data": {
            "text/plain": [
              "LinkedList(Node(1), Node(3))"
            ]
          },
          "metadata": {},
          "execution_count": 8
        }
      ],
      "source": [
        "deque = Deque(node1, node3)\n",
        "deque"
      ]
    },
    {
      "cell_type": "markdown",
      "id": "d6828e7f",
      "metadata": {
        "id": "d6828e7f"
      },
      "source": [
        "For debugging purposes, I'll use the following function, which prints the list from right to left and then left to right, which confirms that all of the links are correct."
      ]
    },
    {
      "cell_type": "code",
      "execution_count": 9,
      "id": "c89bece9",
      "metadata": {
        "id": "c89bece9"
      },
      "outputs": [],
      "source": [
        "def print_deque(deque):\n",
        "    node = deque.head\n",
        "    while node:\n",
        "        print(node.data, end=', ')\n",
        "        node = node.right\n",
        "    print()\n",
        "\n",
        "    node = deque.tail\n",
        "    while node:\n",
        "        print(node.data, end=', ')\n",
        "        node = node.left\n",
        "    print()"
      ]
    },
    {
      "cell_type": "markdown",
      "id": "2f9532f2",
      "metadata": {
        "id": "2f9532f2"
      },
      "source": [
        "Here's an example."
      ]
    },
    {
      "cell_type": "code",
      "execution_count": 10,
      "id": "c246a024",
      "metadata": {
        "colab": {
          "base_uri": "https://localhost:8080/"
        },
        "id": "c246a024",
        "outputId": "baf9cfa9-8d20-4982-a2f5-f03e0924cab3"
      },
      "outputs": [
        {
          "output_type": "stream",
          "name": "stdout",
          "text": [
            "1, 2, 3, \n",
            "3, 2, 1, \n"
          ]
        }
      ],
      "source": [
        "print_deque(deque)"
      ]
    },
    {
      "cell_type": "markdown",
      "id": "44af708a",
      "metadata": {
        "id": "44af708a"
      },
      "source": [
        "## Push\n",
        "\n",
        "Now let's see how we can add and remove elements from the beginning and end in constant time.\n",
        "We'll start with the push operations.\n",
        "\n",
        "If we start with an empty deque, adding the first node is a special case, so I'll pull that into a function."
      ]
    },
    {
      "cell_type": "code",
      "execution_count": 11,
      "id": "7b522c71",
      "metadata": {
        "tags": [],
        "id": "7b522c71"
      },
      "outputs": [],
      "source": [
        "def push_first(deque, value):\n",
        "    deque.head = deque.tail = Node(value, None, None)"
      ]
    },
    {
      "cell_type": "markdown",
      "id": "79c720b4",
      "metadata": {
        "id": "79c720b4"
      },
      "source": [
        "Here's an example."
      ]
    },
    {
      "cell_type": "code",
      "execution_count": 12,
      "id": "9ee37b46",
      "metadata": {
        "tags": [],
        "colab": {
          "base_uri": "https://localhost:8080/"
        },
        "id": "9ee37b46",
        "outputId": "7bc4b6c1-9db6-4dc0-bc7e-e78f2173fb5d"
      },
      "outputs": [
        {
          "output_type": "stream",
          "name": "stdout",
          "text": [
            "1, \n",
            "1, \n"
          ]
        }
      ],
      "source": [
        "deque = Deque()\n",
        "push_first(deque, 1)\n",
        "print_deque(deque)"
      ]
    },
    {
      "cell_type": "markdown",
      "id": "a83f633d",
      "metadata": {
        "id": "a83f633d"
      },
      "source": [
        "**Exercise:**  Write `left_push`, which takes a `Deque` object and a new value, and adds the value to the beginning of the deque.\n",
        "\n",
        "If the queue is empty, it should call `push_first` to handle the special case; otherwise it should handle the general case."
      ]
    },
    {
      "cell_type": "code",
      "execution_count": 13,
      "id": "541d2764",
      "metadata": {
        "id": "541d2764"
      },
      "outputs": [],
      "source": [
        "def left_push(deque, value):\n",
        "  if deque.head is None:\n",
        "    push_first(deque, value)\n",
        "  tmp = deque.head\n",
        "  deque.head = Node(value)\n",
        "  deque.head.right = tmp\n",
        "  tmp.left = deque.head"
      ]
    },
    {
      "cell_type": "markdown",
      "id": "df6d86a0",
      "metadata": {
        "id": "df6d86a0"
      },
      "source": [
        "You can use the following examples to test your function:"
      ]
    },
    {
      "cell_type": "code",
      "execution_count": 14,
      "id": "b57d9562",
      "metadata": {
        "colab": {
          "base_uri": "https://localhost:8080/"
        },
        "id": "b57d9562",
        "outputId": "e823a307-70f8-4424-dce1-45b1f3fbbf16"
      },
      "outputs": [
        {
          "output_type": "stream",
          "name": "stdout",
          "text": [
            "2, 2, \n",
            "2, 2, \n"
          ]
        }
      ],
      "source": [
        "deque = Deque()\n",
        "left_push(deque, 2)\n",
        "print_deque(deque)"
      ]
    },
    {
      "cell_type": "code",
      "execution_count": 15,
      "id": "511a9f52",
      "metadata": {
        "colab": {
          "base_uri": "https://localhost:8080/"
        },
        "id": "511a9f52",
        "outputId": "17a5e965-f686-4329-f5f5-32160d91797d"
      },
      "outputs": [
        {
          "output_type": "stream",
          "name": "stdout",
          "text": [
            "1, 2, 2, \n",
            "2, 2, 1, \n"
          ]
        }
      ],
      "source": [
        "left_push(deque, 1)\n",
        "print_deque(deque)"
      ]
    },
    {
      "cell_type": "markdown",
      "id": "fe3c572e",
      "metadata": {
        "id": "fe3c572e"
      },
      "source": [
        "**Exercise:**  Write `right_push`, which takes a `Deque` object and a new value, and adds the value to the end of the deque.\n",
        "\n",
        "If the queue is empty, it should call `push_first` to handle the special case; otherwise it should handle the general case."
      ]
    },
    {
      "cell_type": "code",
      "execution_count": 16,
      "id": "091cf27c",
      "metadata": {
        "id": "091cf27c"
      },
      "outputs": [],
      "source": [
        "def right_push(deque, value):\n",
        "  if deque.head is None:\n",
        "    push_first(deque, value)\n",
        "  tmp = deque.head\n",
        "  while tmp.right is not None: #move to the end node\n",
        "    tmp = tmp.right\n",
        "  deque.tail = Node(value)\n",
        "  deque.tail.left = tmp\n",
        "  tmp.right = deque.tail\n",
        ""
      ]
    },
    {
      "cell_type": "markdown",
      "id": "05942662",
      "metadata": {
        "id": "05942662"
      },
      "source": [
        "You can use the following examples to test your function:"
      ]
    },
    {
      "cell_type": "code",
      "execution_count": 17,
      "id": "7d3e7688",
      "metadata": {
        "colab": {
          "base_uri": "https://localhost:8080/"
        },
        "id": "7d3e7688",
        "outputId": "3830326f-3a18-46a6-be24-d68f4e8c0414"
      },
      "outputs": [
        {
          "output_type": "stream",
          "name": "stdout",
          "text": [
            "3, 3, \n",
            "3, 3, \n"
          ]
        }
      ],
      "source": [
        "deque = Deque()\n",
        "right_push(deque, 3)\n",
        "print_deque(deque)"
      ]
    },
    {
      "cell_type": "code",
      "execution_count": 18,
      "id": "23ac16de",
      "metadata": {
        "colab": {
          "base_uri": "https://localhost:8080/"
        },
        "id": "23ac16de",
        "outputId": "41f959e5-efbc-41fa-ee5c-f9b1aa3b30b2"
      },
      "outputs": [
        {
          "output_type": "stream",
          "name": "stdout",
          "text": [
            "3, 3, 4, \n",
            "4, 3, 3, \n"
          ]
        }
      ],
      "source": [
        "right_push(deque, 4)\n",
        "print_deque(deque)"
      ]
    },
    {
      "cell_type": "markdown",
      "id": "82eaab11",
      "metadata": {
        "id": "82eaab11"
      },
      "source": [
        "## Pop\n",
        "\n",
        "To pop elements from the deque, we have to handle two special cases:\n",
        "\n",
        "* If `head` and `tail` are both `None`, the deque is empty and we should raise a `ValueError`.\n",
        "\n",
        "* If `head` and `tail` refer to the same `Node`, there is only one element, so we should remove it and leave the deque empty.\n",
        "\n",
        "The following function handles these cases."
      ]
    },
    {
      "cell_type": "code",
      "execution_count": 19,
      "id": "0830b88e",
      "metadata": {
        "tags": [],
        "id": "0830b88e"
      },
      "outputs": [],
      "source": [
        "def pop_last(deque):\n",
        "    if deque.head is None:\n",
        "        raise ValueError('Tried to pop from empty deque')\n",
        "\n",
        "    old_head = deque.head\n",
        "    deque.head = deque.tail = None\n",
        "    return old_head.data"
      ]
    },
    {
      "cell_type": "markdown",
      "id": "8be920cb",
      "metadata": {
        "id": "8be920cb"
      },
      "source": [
        "We can test it like this:"
      ]
    },
    {
      "cell_type": "code",
      "execution_count": 20,
      "id": "2b79c2a5",
      "metadata": {
        "tags": [],
        "colab": {
          "base_uri": "https://localhost:8080/"
        },
        "id": "2b79c2a5",
        "outputId": "7fff4a24-c7ec-4377-eecb-322c2802e385"
      },
      "outputs": [
        {
          "output_type": "execute_result",
          "data": {
            "text/plain": [
              "1"
            ]
          },
          "metadata": {},
          "execution_count": 20
        }
      ],
      "source": [
        "deque = Deque()\n",
        "left_push(deque, 1)\n",
        "pop_last(deque)"
      ]
    },
    {
      "cell_type": "code",
      "execution_count": 21,
      "id": "466cbad6",
      "metadata": {
        "tags": [],
        "colab": {
          "base_uri": "https://localhost:8080/"
        },
        "id": "466cbad6",
        "outputId": "5a7c7432-a78a-4029-fc2f-5d77f73d5f3b"
      },
      "outputs": [
        {
          "output_type": "stream",
          "name": "stdout",
          "text": [
            "\n",
            "\n"
          ]
        }
      ],
      "source": [
        "print_deque(deque)"
      ]
    },
    {
      "cell_type": "markdown",
      "id": "ac600f8a",
      "metadata": {
        "id": "ac600f8a"
      },
      "source": [
        "**Exercise:**  Write `left_pop`, which takes a `Deque` object, remove the first node, and return the first data value.\n",
        "\n",
        "If the queue is empty or has a single element, it should call `pop_last` to handle the special case; otherwise it should handle the general case."
      ]
    },
    {
      "cell_type": "code",
      "execution_count": 34,
      "id": "4a6d6869",
      "metadata": {
        "id": "4a6d6869"
      },
      "outputs": [],
      "source": [
        "def left_pop(deque):\n",
        "    if deque.head is None:\n",
        "        raise IndexError(\"pop from empty deque\")\n",
        "\n",
        "    tmp = deque.head\n",
        "\n",
        "    # If there's only one element\n",
        "    if deque.head.right is None:\n",
        "        deque.head = None\n",
        "        deque.tail = None  # assuming you maintain a tail pointer\n",
        "    else:\n",
        "        deque.head = tmp.right\n",
        "        deque.head.left = None\n",
        "\n",
        "    return tmp.data\n"
      ]
    },
    {
      "cell_type": "markdown",
      "id": "03468ac4",
      "metadata": {
        "id": "03468ac4"
      },
      "source": [
        "You can use the following example to test your code."
      ]
    },
    {
      "cell_type": "code",
      "execution_count": 35,
      "id": "31aecffc",
      "metadata": {
        "colab": {
          "base_uri": "https://localhost:8080/"
        },
        "id": "31aecffc",
        "outputId": "a0315df6-7967-4670-cf1d-7f22b8c8ac28"
      },
      "outputs": [
        {
          "output_type": "stream",
          "name": "stdout",
          "text": [
            "1, 2, 2, \n",
            "2, 2, 1, \n"
          ]
        }
      ],
      "source": [
        "deque = Deque()\n",
        "left_push(deque, 2)\n",
        "left_push(deque, 1)\n",
        "print_deque(deque)"
      ]
    },
    {
      "cell_type": "code",
      "execution_count": 36,
      "id": "e598b176",
      "metadata": {
        "colab": {
          "base_uri": "https://localhost:8080/"
        },
        "id": "e598b176",
        "outputId": "abcac26f-f027-47ac-dc8b-68b58685efe3"
      },
      "outputs": [
        {
          "output_type": "execute_result",
          "data": {
            "text/plain": [
              "1"
            ]
          },
          "metadata": {},
          "execution_count": 36
        }
      ],
      "source": [
        "left_pop(deque)"
      ]
    },
    {
      "cell_type": "markdown",
      "id": "9a7bb10e",
      "metadata": {
        "id": "9a7bb10e"
      },
      "source": [
        "Check to see whether the remaining list is well-formed."
      ]
    },
    {
      "cell_type": "code",
      "execution_count": 37,
      "id": "854f03c7",
      "metadata": {
        "colab": {
          "base_uri": "https://localhost:8080/"
        },
        "id": "854f03c7",
        "outputId": "ab4a5d66-070b-4d83-a7f0-99bc7bf2bceb"
      },
      "outputs": [
        {
          "output_type": "stream",
          "name": "stdout",
          "text": [
            "2, 2, \n",
            "2, 2, \n"
          ]
        }
      ],
      "source": [
        "print_deque(deque)"
      ]
    },
    {
      "cell_type": "code",
      "execution_count": 38,
      "id": "40c86ff1",
      "metadata": {
        "colab": {
          "base_uri": "https://localhost:8080/"
        },
        "id": "40c86ff1",
        "outputId": "c6909822-eb98-47a6-a658-9cc36561dc55"
      },
      "outputs": [
        {
          "output_type": "execute_result",
          "data": {
            "text/plain": [
              "2"
            ]
          },
          "metadata": {},
          "execution_count": 38
        }
      ],
      "source": [
        "left_pop(deque)"
      ]
    },
    {
      "cell_type": "code",
      "execution_count": 39,
      "id": "e0f844f6",
      "metadata": {
        "id": "e0f844f6"
      },
      "outputs": [],
      "source": [
        "try:\n",
        "    left_pop(deque)\n",
        "except ValueError as e:\n",
        "    print(e)"
      ]
    },
    {
      "cell_type": "markdown",
      "id": "8f1e64ee",
      "metadata": {
        "id": "8f1e64ee"
      },
      "source": [
        "**Exercise:**  Write `right_pop`, which takes a `Deque` object, remove the last node, and return the last data value.\n",
        "\n",
        "If the queue is empty or has a single element, it should call `pop_last` to handle the special case; otherwise it should handle the general case."
      ]
    },
    {
      "cell_type": "code",
      "execution_count": 40,
      "id": "860a382c",
      "metadata": {
        "id": "860a382c"
      },
      "outputs": [],
      "source": [
        "def right_pop(deque):\n",
        "  if deque.head is None or deque.head.right is None:\n",
        "    return pop_last(deque)\n",
        "  tmp = deque.tail\n",
        "  deque.tail = tmp.left\n",
        "  deque.tail.right = None\n",
        "  return tmp.data\n"
      ]
    },
    {
      "cell_type": "markdown",
      "id": "35867cbd",
      "metadata": {
        "id": "35867cbd"
      },
      "source": [
        "You can use the following examples to test your function."
      ]
    },
    {
      "cell_type": "code",
      "execution_count": 41,
      "id": "490ec809",
      "metadata": {
        "colab": {
          "base_uri": "https://localhost:8080/"
        },
        "id": "490ec809",
        "outputId": "dc7ef496-98ad-43bb-f7f4-fccd9493a178"
      },
      "outputs": [
        {
          "output_type": "stream",
          "name": "stdout",
          "text": [
            "LinkedList(Node(1), Node(2))\n"
          ]
        }
      ],
      "source": [
        "deque = Deque()\n",
        "left_push(deque, 2)\n",
        "left_push(deque, 1)\n",
        "print(deque)"
      ]
    },
    {
      "cell_type": "code",
      "execution_count": 42,
      "id": "df1579df",
      "metadata": {
        "colab": {
          "base_uri": "https://localhost:8080/"
        },
        "id": "df1579df",
        "outputId": "da272f8c-6e47-4331-f0da-364b3766b6c4"
      },
      "outputs": [
        {
          "output_type": "execute_result",
          "data": {
            "text/plain": [
              "2"
            ]
          },
          "metadata": {},
          "execution_count": 42
        }
      ],
      "source": [
        "right_pop(deque)"
      ]
    },
    {
      "cell_type": "code",
      "execution_count": 43,
      "id": "e9ede434",
      "metadata": {
        "colab": {
          "base_uri": "https://localhost:8080/"
        },
        "id": "e9ede434",
        "outputId": "ebf4e7f2-3304-40b6-8398-9374efbf7a76"
      },
      "outputs": [
        {
          "output_type": "stream",
          "name": "stdout",
          "text": [
            "1, 2, \n",
            "2, 1, \n"
          ]
        }
      ],
      "source": [
        "print_deque(deque)"
      ]
    },
    {
      "cell_type": "code",
      "execution_count": 44,
      "id": "28038595",
      "metadata": {
        "colab": {
          "base_uri": "https://localhost:8080/"
        },
        "id": "28038595",
        "outputId": "32929996-d823-4cd8-ae7e-3553bc748e72"
      },
      "outputs": [
        {
          "output_type": "execute_result",
          "data": {
            "text/plain": [
              "2"
            ]
          },
          "metadata": {},
          "execution_count": 44
        }
      ],
      "source": [
        "right_pop(deque)"
      ]
    },
    {
      "cell_type": "code",
      "execution_count": 45,
      "id": "1bbbd530",
      "metadata": {
        "id": "1bbbd530"
      },
      "outputs": [],
      "source": [
        "try:\n",
        "    right_pop(deque)\n",
        "except ValueError as e:\n",
        "    print(e)"
      ]
    },
    {
      "cell_type": "markdown",
      "id": "2601cf79",
      "metadata": {
        "id": "2601cf79"
      },
      "source": [
        "## collections.deque\n",
        "\n",
        "The Python collections module provides an implementation of a deque.\n",
        "You can read the\n",
        "[documentation here](https://docs.python.org/3/library/collections.html#collections.deque)\n",
        "and the\n",
        "[source code here](https://github.com/python/cpython/blob/d943d19172aa93ce88bade15b9f23a0ce3bc72ff/Modules/_collectionsmodule.c).\n",
        "\n",
        "To confirm that it can add and remove elements from the beginning and end in constant time, let's run some timing tests."
      ]
    },
    {
      "cell_type": "code",
      "execution_count": 47,
      "id": "693d5e28",
      "metadata": {
        "id": "693d5e28"
      },
      "outputs": [],
      "source": [
        "from os.path import basename, exists\n",
        "\n",
        "def download(url):\n",
        "    filename = basename(url)\n",
        "    if not exists(filename):\n",
        "        from urllib.request import urlretrieve\n",
        "        local, _ = urlretrieve(url, filename)\n",
        "        print('Downloaded ' + local)\n",
        "\n",
        "download('https://github.com/AllenDowney/DSIRP/raw/main/timing.py')"
      ]
    },
    {
      "cell_type": "code",
      "execution_count": 48,
      "id": "f2a0e363",
      "metadata": {
        "id": "f2a0e363"
      },
      "outputs": [],
      "source": [
        "from collections import deque\n",
        "\n",
        "def appendleft(n):\n",
        "    d = deque()\n",
        "    [d.appendleft(x) for x in range(n)]"
      ]
    },
    {
      "cell_type": "code",
      "execution_count": 49,
      "id": "38d3e7a6",
      "metadata": {
        "id": "38d3e7a6"
      },
      "outputs": [],
      "source": [
        "def popleft(n):\n",
        "    d = deque()\n",
        "    [d.appendleft(x) for x in range(n)]\n",
        "    [d.popleft() for _ in range(n)]"
      ]
    },
    {
      "cell_type": "code",
      "execution_count": 50,
      "id": "5b5de53e",
      "metadata": {
        "colab": {
          "base_uri": "https://localhost:8080/"
        },
        "id": "5b5de53e",
        "outputId": "f569a308-0b37-4242-8f2a-a04e867813f6"
      },
      "outputs": [
        {
          "output_type": "stream",
          "name": "stdout",
          "text": [
            "1024 0.0\n",
            "2048 0.0\n",
            "4096 0.0\n",
            "8192 0.0\n",
            "16384 0.0\n",
            "32768 0.010000000000001563\n",
            "65536 0.0\n",
            "131072 0.01999999999999602\n",
            "262144 0.020000000000003126\n",
            "524288 0.03999999999999915\n",
            "1048576 0.08999999999999986\n",
            "2097152 0.19000000000000128\n",
            "4194304 0.35999999999999943\n",
            "8388608 0.7300000000000004\n",
            "16777216 1.4600000000000009\n"
          ]
        }
      ],
      "source": [
        "from timing import run_timing_test\n",
        "\n",
        "ns, ts = run_timing_test(appendleft)"
      ]
    },
    {
      "cell_type": "code",
      "execution_count": 51,
      "id": "48d2628f",
      "metadata": {
        "id": "48d2628f"
      },
      "outputs": [],
      "source": [
        "def append(n):\n",
        "    d = deque()\n",
        "    [d.append(x) for x in range(n)]"
      ]
    },
    {
      "cell_type": "code",
      "execution_count": 53,
      "id": "2d1aad80",
      "metadata": {
        "colab": {
          "base_uri": "https://localhost:8080/",
          "height": 449
        },
        "id": "2d1aad80",
        "outputId": "02712e00-d1b4-4815-dc90-0f589143c812"
      },
      "outputs": [
        {
          "output_type": "display_data",
          "data": {
            "text/plain": [
              "<Figure size 640x480 with 1 Axes>"
            ],
            "image/png": "[encoded data removed]"
          },
          "metadata": {}
        }
      ],
      "source": [
        "from timing import plot_timing_test\n",
        "\n",
        "plot_timing_test(ns, ts, scale='linear')"
      ]
    },
    {
      "cell_type": "markdown",
      "id": "e2b4aef5",
      "metadata": {
        "id": "e2b4aef5"
      },
      "source": [
        "Running these operations `n` times is linear in `n`, which means that each one is constant time, at least on average."
      ]
    },
    {
      "cell_type": "markdown",
      "id": "33d085cd",
      "metadata": {
        "id": "33d085cd"
      },
      "source": [
        "**Exercise:** Modify the examples above to confirm that `append` and `pop` are also constant time."
      ]
    },
    {
      "cell_type": "markdown",
      "id": "ef58e92d",
      "metadata": {
        "id": "ef58e92d"
      },
      "source": [
        "*Data Structures and Information Retrieval in Python*\n",
        "\n",
        "Copyright 2021 Allen Downey\n",
        "\n",
        "License: [Creative Commons Attribution-NonCommercial-ShareAlike 4.0 International](https://creativecommons.org/licenses/by-nc-sa/4.0/)"
      ]
    }
  ],
  "metadata": {
    "celltoolbar": "Tags",
    "kernelspec": {
      "display_name": "Python 3 (ipykernel)",
      "language": "python",
      "name": "python3"
    },
    "language_info": {
      "codemirror_mode": {
        "name": "ipython",
        "version": 3
      },
      "file_extension": ".py",
      "mimetype": "text/x-python",
      "name": "python",
      "nbconvert_exporter": "python",
      "pygments_lexer": "ipython3",
      "version": "3.10.1"
    },
    "colab": {
      "provenance": []
    }
  },
  "nbformat": 4,
  "nbformat_minor": 5
}