{
  "cells": [
    {
      "cell_type": "markdown",
      "metadata": {
        "id": "rwm0WfB--me8"
      },
      "source": [
        "# Merge Sort"
      ]
    },
    {
      "cell_type": "markdown",
      "metadata": {
        "id": "zGxSM33h-me-"
      },
      "source": [
        "[Click here to run this chapter on Colab](https://colab.research.google.com/github/AllenDowney/DSIRP/blob/main/notebooks/mergesort.ipynb)"
      ]
    },
    {
      "cell_type": "markdown",
      "metadata": {
        "id": "gA2M-LkD-me-"
      },
      "source": [
        "## Implementing Merge Sort\n",
        "\n",
        "[Merge sort](https://en.wikipedia.org/wiki/Merge_sort) is a divide and conquer strategy:\n",
        "\n",
        "1. Divide the sequence into two halves,\n",
        "\n",
        "2. Sort the halves, and\n",
        "\n",
        "3. Merge the sorted sub-sequences into a single sequence."
      ]
    },
    {
      "cell_type": "markdown",
      "metadata": {
        "id": "MVEBTlGF-mfA"
      },
      "source": [
        "Since step 2 involves sorting, this algorithm is recursive, so we need a base case.\n",
        "There are two options:\n",
        "\n",
        "1. If the size falls below some threshold, we can use another sort algorithm.\n",
        "\n",
        "2. If the size of a sub-sequence is 1, it is already sorted.\n",
        "\n",
        "[Comparison with other sort algorithms](https://en.wikipedia.org/wiki/Merge_sort#Comparison_with_other_sort_algorithms)"
      ]
    },
    {
      "cell_type": "markdown",
      "metadata": {
        "id": "jhTuciFo-mfA"
      },
      "source": [
        "To implement merge sort, I think it's helpful to start with a non-recursive version that uses the Python `sort` function to sort the sub-sequences."
      ]
    },
    {
      "cell_type": "code",
      "execution_count": 1,
      "metadata": {
        "tags": [],
        "id": "KMMZN47m-mfA"
      },
      "outputs": [],
      "source": [
        "def merge_sort_norec(xs):\n",
        "    n = len(xs)\n",
        "    mid = n//2\n",
        "    left = xs[:mid]\n",
        "    right = xs[mid:]\n",
        "\n",
        "    left.sort()\n",
        "    right.sort()\n",
        "\n",
        "    return merge(left, right)"
      ]
    },
    {
      "cell_type": "markdown",
      "metadata": {
        "id": "gtXkbG-E-mfC"
      },
      "source": [
        "**Exercise:** Write a function called `merge` that takes two sorted sequences, `left` and `right`, and returns a sequence that contains all elements from `left` and `right`, in ascending order (or non-decreasing order, to be more precise).\n",
        "\n",
        "Note: this function is not conceptually difficult, but it is notoriously tricky to get all of the edge cases right without making the function unreadable.\n",
        "Take it as a challenge to write a version that is correct, concise, and readable.\n",
        "I found that I could write it more concisely as a generator function."
      ]
    },
    {
      "cell_type": "code",
      "execution_count": 9,
      "metadata": {
        "id": "FyOjtvEl-mfD"
      },
      "outputs": [],
      "source": [
        "def merge(left, right):\n",
        "    i, j = 0, 0\n",
        "    merged = []\n",
        "\n",
        "    # Walk through both lists\n",
        "    while i < len(left) and j < len(right):\n",
        "        if left[i] <= right[j]:\n",
        "            merged.append(left[i])\n",
        "            i += 1\n",
        "        else:\n",
        "            merged.append(right[j])\n",
        "            j += 1\n",
        "\n",
        "    # Append the leftovers (only one of these will run)\n",
        "    merged.extend(left[i:])\n",
        "    merged.extend(right[j:])\n",
        "\n",
        "    return merged\n",
        "\n",
        "\n"
      ]
    },
    {
      "cell_type": "markdown",
      "metadata": {
        "id": "pLvfMlv2-mfD"
      },
      "source": [
        "You can use the following example to test your code."
      ]
    },
    {
      "cell_type": "code",
      "execution_count": 10,
      "metadata": {
        "id": "Hweh3sKm-mfE",
        "outputId": "d0b364e5-3b0e-477b-df1e-d5c630cd036d",
        "colab": {
          "base_uri": "https://localhost:8080/"
        }
      },
      "outputs": [
        {
          "output_type": "execute_result",
          "data": {
            "text/plain": [
              "[49, 37, 2, 22, 24, 17]"
            ]
          },
          "metadata": {},
          "execution_count": 10
        }
      ],
      "source": [
        "import random\n",
        "\n",
        "population = range(100)\n",
        "xs = random.sample(population, k=6)\n",
        "ys = random.sample(population, k=6)\n",
        "ys"
      ]
    },
    {
      "cell_type": "code",
      "execution_count": 11,
      "metadata": {
        "id": "Zoet_Uvc-mfE",
        "outputId": "3da6de93-d3eb-497d-c7b6-49d48f2a8b9c",
        "colab": {
          "base_uri": "https://localhost:8080/"
        }
      },
      "outputs": [
        {
          "output_type": "stream",
          "name": "stdout",
          "text": [
            "[31, 56, 61, 62, 86, 98]\n"
          ]
        },
        {
          "output_type": "execute_result",
          "data": {
            "text/plain": [
              "[2, 17, 22, 24, 37, 49]"
            ]
          },
          "metadata": {},
          "execution_count": 11
        }
      ],
      "source": [
        "xs.sort()\n",
        "print(xs)\n",
        "ys.sort()\n",
        "ys"
      ]
    },
    {
      "cell_type": "code",
      "execution_count": 12,
      "metadata": {
        "colab": {
          "base_uri": "https://localhost:8080/"
        },
        "id": "PWKfmqLc-mfF",
        "outputId": "c24f4491-5cd5-4654-ba94-3315d2deb6db"
      },
      "outputs": [
        {
          "output_type": "execute_result",
          "data": {
            "text/plain": [
              "[2, 17, 22, 24, 31, 37, 49, 56, 61, 62, 86, 98]"
            ]
          },
          "metadata": {},
          "execution_count": 12
        }
      ],
      "source": [
        "res = list(merge(xs, ys))\n",
        "res"
      ]
    },
    {
      "cell_type": "code",
      "execution_count": null,
      "metadata": {
        "id": "tczjIHIH-mfF"
      },
      "outputs": [],
      "source": [
        "sorted(res) == res"
      ]
    },
    {
      "cell_type": "markdown",
      "metadata": {
        "id": "tjkkoHGw-mfF"
      },
      "source": [
        "**Exercise:**  Starting with `merge_sort_norec`, write a function called `merge_sort_rec` that's fully recursive; that is, instead of using Python's `sort` function to sort the halves, it should use `merge_sort_rec`.  Of course, you will need a base case to avoid an infinite recursion.\n",
        "\n"
      ]
    },
    {
      "cell_type": "code",
      "execution_count": 13,
      "metadata": {
        "id": "MesexXHA-mfG"
      },
      "outputs": [],
      "source": [
        "def merge_sort_rec(xs):\n",
        "    if len(xs) <= 1:  #base case\n",
        "        return xs\n",
        "    else:\n",
        "        mid = len(xs) // 2\n",
        "        left = xs[:mid]\n",
        "        right = xs[mid:]\n",
        "        merge_sort_rec(left)\n",
        "        merge_sort_rec(right)\n",
        "        return merge(left, right)\n"
      ]
    },
    {
      "cell_type": "markdown",
      "metadata": {
        "id": "Nrlo0dXg-mfG"
      },
      "source": [
        "Test your method by running the code in the next cell, then use `test_merge_sort_rec`, below, to check the performance of your function."
      ]
    },
    {
      "cell_type": "code",
      "execution_count": 14,
      "metadata": {
        "id": "eFH_mAEo-mfG",
        "outputId": "1d19c607-aa9c-4604-b74f-c1b183f6ec3b",
        "colab": {
          "base_uri": "https://localhost:8080/"
        }
      },
      "outputs": [
        {
          "output_type": "execute_result",
          "data": {
            "text/plain": [
              "[22, 84, 94, 76, 74, 75, 56, 11, 77, 26, 81, 63]"
            ]
          },
          "metadata": {},
          "execution_count": 14
        }
      ],
      "source": [
        "xs = random.sample(population, k=12)\n",
        "xs"
      ]
    },
    {
      "cell_type": "code",
      "execution_count": 15,
      "metadata": {
        "id": "ouZpt1f6-mfG",
        "outputId": "94ba4bdb-ab0d-4ed0-c28d-424e7a150762",
        "colab": {
          "base_uri": "https://localhost:8080/"
        }
      },
      "outputs": [
        {
          "output_type": "execute_result",
          "data": {
            "text/plain": [
              "[22, 56, 11, 77, 26, 81, 63, 84, 94, 76, 74, 75]"
            ]
          },
          "metadata": {},
          "execution_count": 15
        }
      ],
      "source": [
        "res = list(merge_sort_rec(xs))\n",
        "res"
      ]
    },
    {
      "cell_type": "code",
      "execution_count": 16,
      "metadata": {
        "id": "C4TvbWDp-mfH",
        "outputId": "65691982-7bcc-4eda-ebeb-7cfa5c25109b",
        "colab": {
          "base_uri": "https://localhost:8080/"
        }
      },
      "outputs": [
        {
          "output_type": "execute_result",
          "data": {
            "text/plain": [
              "False"
            ]
          },
          "metadata": {},
          "execution_count": 16
        }
      ],
      "source": [
        "sorted(res) == res"
      ]
    },
    {
      "cell_type": "markdown",
      "metadata": {
        "id": "ZtAHqsew-mfH"
      },
      "source": [
        "## Heap Merge\n",
        "\n",
        "Suppose we want to merge more than two sub-sequences.\n",
        "A convenient way to do that is to use a heap.\n",
        "For example, here are three sorted sub-sequences."
      ]
    },
    {
      "cell_type": "code",
      "execution_count": null,
      "metadata": {
        "id": "hqCZrreO-mfH"
      },
      "outputs": [],
      "source": [
        "xs = random.sample(population, k=5)\n",
        "ys = random.sample(population, k=5)\n",
        "zs = random.sample(population, k=5)\n",
        "\n",
        "min(xs), min(ys), min(zs)"
      ]
    },
    {
      "cell_type": "code",
      "execution_count": null,
      "metadata": {
        "id": "BO_ExPuO-mfI"
      },
      "outputs": [],
      "source": [
        "xs.sort()\n",
        "ys.sort()\n",
        "zs.sort()"
      ]
    },
    {
      "cell_type": "markdown",
      "metadata": {
        "id": "zwZOrg_D-mfI"
      },
      "source": [
        "For each sequence, I'll make an iterator and push onto the heap a tuple that contains:\n",
        "\n",
        "* The first element from the iterator,\n",
        "\n",
        "* An index that's different for each iterator, and\n",
        "\n",
        "* The iterator itself.\n",
        "\n",
        "When the heap compares two of these tuples, it compares the elements first.\n",
        "If there's a tie, it compares the indices.\n",
        "Since the indices are unique, there can't be a tie, so we never have to compare iterators (which would be an error)."
      ]
    },
    {
      "cell_type": "code",
      "execution_count": null,
      "metadata": {
        "tags": [],
        "id": "j5gGfaPL-mfI"
      },
      "outputs": [],
      "source": [
        "sequences = [xs, ys, zs]"
      ]
    },
    {
      "cell_type": "code",
      "execution_count": null,
      "metadata": {
        "tags": [],
        "id": "xVfjWr1A-mfJ"
      },
      "outputs": [],
      "source": [
        "from heapq import heappush, heappop\n",
        "\n",
        "heap = []\n",
        "for i, seq in enumerate(sequences):\n",
        "    iterator = iter(seq)\n",
        "    first = next(iterator)\n",
        "    heappush(heap, (first, i, iterator))"
      ]
    },
    {
      "cell_type": "markdown",
      "metadata": {
        "id": "FLU9k4KB-mfJ"
      },
      "source": [
        "When we pop a value from the heap, we get the tuple with the smallest value."
      ]
    },
    {
      "cell_type": "code",
      "execution_count": null,
      "metadata": {
        "tags": [],
        "id": "W67euSn3-mfJ"
      },
      "outputs": [],
      "source": [
        "value, i, iterator = heappop(heap)\n",
        "value"
      ]
    },
    {
      "cell_type": "markdown",
      "metadata": {
        "id": "TpXDTr9i-mfJ"
      },
      "source": [
        "If we know that the iterator has more values, we can use `next` to get the next one and then push a tuple back into the heap."
      ]
    },
    {
      "cell_type": "code",
      "execution_count": null,
      "metadata": {
        "tags": [],
        "id": "qf02gS-b-mfK"
      },
      "outputs": [],
      "source": [
        "heappush(heap, (next(iterator), i, iterator))"
      ]
    },
    {
      "cell_type": "markdown",
      "metadata": {
        "id": "cMA1ZoAZ-mfK"
      },
      "source": [
        "If we repeat this process, we'll get all elements from all sub-sequences in ascending order.\n",
        "\n",
        "However, we have to deal with the case where the iterator is empty.\n",
        "In Python, the only way to check is to call `next` and take your chances!\n",
        "If there are no more elements in the iterator, `next` raises a `StopIteration` exception, which you can handle with a `try` statement, like this:"
      ]
    },
    {
      "cell_type": "code",
      "execution_count": null,
      "metadata": {
        "tags": [],
        "id": "xrjCfjGp-mfK"
      },
      "outputs": [],
      "source": [
        "iterator = iter(xs)\n",
        "\n",
        "while True:\n",
        "    try:\n",
        "        print(next(iterator))\n",
        "    except StopIteration:\n",
        "        break"
      ]
    },
    {
      "cell_type": "markdown",
      "metadata": {
        "id": "uVKACVsl-mfK"
      },
      "source": [
        "**Exercise:** Write a generator function called `heapmerge` that takes a list of sequences and yields the elements from the sequences in increasing order."
      ]
    },
    {
      "cell_type": "code",
      "execution_count": null,
      "metadata": {
        "id": "Da-LJ2es-mfK"
      },
      "outputs": [],
      "source": []
    },
    {
      "cell_type": "markdown",
      "metadata": {
        "id": "BLqCVE30-mfL"
      },
      "source": [
        "You can use the following examples to test your function."
      ]
    },
    {
      "cell_type": "code",
      "execution_count": null,
      "metadata": {
        "id": "lO-uUTSq-mfL"
      },
      "outputs": [],
      "source": [
        "seq = list(heapmerge([xs, ys, zs]))\n",
        "seq"
      ]
    },
    {
      "cell_type": "code",
      "execution_count": null,
      "metadata": {
        "id": "8Ih0uWoe-mfL"
      },
      "outputs": [],
      "source": [
        "sorted(seq) == seq"
      ]
    },
    {
      "cell_type": "markdown",
      "metadata": {
        "id": "rnTQx_YI-mfM"
      },
      "source": [
        "The `heapq` module provides a function called `merge` that implements this algorithm."
      ]
    },
    {
      "cell_type": "markdown",
      "metadata": {
        "id": "Ybdkxw-J-mfM"
      },
      "source": [
        "## Comparing sort algorithms\n",
        "\n",
        "NumPy provides implementations of three sorting algorithms, quicksort, mergesort, and heapsort.\n",
        "\n",
        "In theory that are all in `O(n log n)`.\n",
        "Let's see what that looks like when we plot runtime versus problem size.\n"
      ]
    },
    {
      "cell_type": "code",
      "execution_count": null,
      "metadata": {
        "id": "46PqcaOh-mfM"
      },
      "outputs": [],
      "source": [
        "from os.path import basename, exists\n",
        "\n",
        "def download(url):\n",
        "    filename = basename(url)\n",
        "    if not exists(filename):\n",
        "        from urllib.request import urlretrieve\n",
        "        local, _ = urlretrieve(url, filename)\n",
        "        print('Downloaded ' + local)\n",
        "\n",
        "download('https://github.com/AllenDowney/DSIRP/raw/main/timing.py')"
      ]
    },
    {
      "cell_type": "code",
      "execution_count": null,
      "metadata": {
        "id": "yMVKAjJU-mfR"
      },
      "outputs": [],
      "source": [
        "from timing import run_timing_test, plot_timing_test"
      ]
    },
    {
      "cell_type": "code",
      "execution_count": null,
      "metadata": {
        "id": "ytN7vpcN-mfS"
      },
      "outputs": [],
      "source": [
        "import numpy as np\n",
        "\n",
        "def test_quicksort(n):\n",
        "    xs = np.random.normal(size=n)\n",
        "    xs.sort(kind='quicksort')\n",
        "\n",
        "ns, ts = run_timing_test(test_quicksort)\n",
        "plot_timing_test(ns, ts, 'test_quicksort', exp=1)"
      ]
    },
    {
      "cell_type": "markdown",
      "metadata": {
        "id": "x49GrBfN-mfS"
      },
      "source": [
        "quicksort is hard to distinguish from linear, up to about 10 million elements."
      ]
    },
    {
      "cell_type": "code",
      "execution_count": null,
      "metadata": {
        "id": "JJSByd79-mfT"
      },
      "outputs": [],
      "source": [
        "def test_mergesort(n):\n",
        "    xs = np.random.normal(size=n)\n",
        "    xs.sort(kind='mergesort')\n",
        "\n",
        "ns, ts = run_timing_test(test_mergesort)\n",
        "plot_timing_test(ns, ts, 'test_mergesort', exp=1)"
      ]
    },
    {
      "cell_type": "markdown",
      "metadata": {
        "id": "p6NmAhpc-mfT"
      },
      "source": [
        "Merge sort is similar, maybe with some upward curvature."
      ]
    },
    {
      "cell_type": "code",
      "execution_count": null,
      "metadata": {
        "id": "3LjLkl37-mfT"
      },
      "outputs": [],
      "source": [
        "def test_heapsort(n):\n",
        "    xs = np.random.normal(size=n)\n",
        "    xs.sort(kind='heapsort')\n",
        "\n",
        "ns, ts = run_timing_test(test_quicksort)\n",
        "plot_timing_test(ns, ts, 'test_heapsort', exp=1)"
      ]
    },
    {
      "cell_type": "markdown",
      "metadata": {
        "id": "ugxcbO8Y-mfU"
      },
      "source": [
        "The three methods are effectively linear over this range of problem sizes.\n",
        "\n",
        "And their run times are about the same, with quicksort being the fastest, despite being the one with the worst asympotic performance in the worst case.\n",
        "\n",
        "Now let's see how our implementation of merge sort does."
      ]
    },
    {
      "cell_type": "code",
      "execution_count": null,
      "metadata": {
        "id": "z9wqozP5-mfU"
      },
      "outputs": [],
      "source": [
        "def test_merge_sort_rec(n):\n",
        "    xs = np.random.normal(size=n)\n",
        "    spectrum = merge_sort_rec(xs)\n",
        "\n",
        "ns, ts = run_timing_test(test_merge_sort_rec)\n",
        "plot_timing_test(ns, ts, 'test_merge_sort_rec', exp=1)"
      ]
    },
    {
      "cell_type": "markdown",
      "metadata": {
        "id": "CfQdt_IL-mfU"
      },
      "source": [
        "If things go according to plan, our implementation of merge sort should be close to linear, or a little steeper."
      ]
    },
    {
      "cell_type": "markdown",
      "metadata": {
        "id": "YPHOhtnx-mfV"
      },
      "source": [
        "*Data Structures and Information Retrieval in Python*\n",
        "\n",
        "Copyright 2021 Allen Downey\n",
        "\n",
        "License: [Creative Commons Attribution-NonCommercial-ShareAlike 4.0 International](https://creativecommons.org/licenses/by-nc-sa/4.0/)"
      ]
    }
  ],
  "metadata": {
    "anaconda-cloud": {},
    "celltoolbar": "Tags",
    "kernelspec": {
      "display_name": "Python 3 (ipykernel)",
      "language": "python",
      "name": "python3"
    },
    "language_info": {
      "codemirror_mode": {
        "name": "ipython",
        "version": 3
      },
      "file_extension": ".py",
      "mimetype": "text/x-python",
      "name": "python",
      "nbconvert_exporter": "python",
      "pygments_lexer": "ipython3",
      "version": "3.10.1"
    },
    "colab": {
      "provenance": []
    }
  },
  "nbformat": 4,
  "nbformat_minor": 0
}