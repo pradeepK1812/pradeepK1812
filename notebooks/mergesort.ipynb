{
  "cells": [
    {
      "cell_type": "markdown",
      "metadata": {
        "id": "rwm0WfB--me8"
      },
      "source": [
        "# Merge Sort"
      ]
    },
    {
      "cell_type": "markdown",
      "metadata": {
        "id": "zGxSM33h-me-"
      },
      "source": [
        "[Click here to run this chapter on Colab](https://colab.research.google.com/github/AllenDowney/DSIRP/blob/main/notebooks/mergesort.ipynb)"
      ]
    },
    {
      "cell_type": "markdown",
      "metadata": {
        "id": "gA2M-LkD-me-"
      },
      "source": [
        "## Implementing Merge Sort\n",
        "\n",
        "[Merge sort](https://en.wikipedia.org/wiki/Merge_sort) is a divide and conquer strategy:\n",
        "\n",
        "1. Divide the sequence into two halves,\n",
        "\n",
        "2. Sort the halves, and\n",
        "\n",
        "3. Merge the sorted sub-sequences into a single sequence."
      ]
    },
    {
      "cell_type": "markdown",
      "metadata": {
        "id": "MVEBTlGF-mfA"
      },
      "source": [
        "Since step 2 involves sorting, this algorithm is recursive, so we need a base case.\n",
        "There are two options:\n",
        "\n",
        "1. If the size falls below some threshold, we can use another sort algorithm.\n",
        "\n",
        "2. If the size of a sub-sequence is 1, it is already sorted.\n",
        "\n",
        "[Comparison with other sort algorithms](https://en.wikipedia.org/wiki/Merge_sort#Comparison_with_other_sort_algorithms)"
      ]
    },
    {
      "cell_type": "markdown",
      "metadata": {
        "id": "jhTuciFo-mfA"
      },
      "source": [
        "To implement merge sort, I think it's helpful to start with a non-recursive version that uses the Python `sort` function to sort the sub-sequences."
      ]
    },
    {
      "cell_type": "code",
      "execution_count": 1,
      "metadata": {
        "tags": [],
        "id": "KMMZN47m-mfA"
      },
      "outputs": [],
      "source": [
        "def merge_sort_norec(xs):\n",
        "    n = len(xs)\n",
        "    mid = n//2\n",
        "    left = xs[:mid]\n",
        "    right = xs[mid:]\n",
        "\n",
        "    left.sort()\n",
        "    right.sort()\n",
        "\n",
        "    return merge(left, right)"
      ]
    },
    {
      "cell_type": "markdown",
      "metadata": {
        "id": "gtXkbG-E-mfC"
      },
      "source": [
        "**Exercise:** Write a function called `merge` that takes two sorted sequences, `left` and `right`, and returns a sequence that contains all elements from `left` and `right`, in ascending order (or non-decreasing order, to be more precise).\n",
        "\n",
        "Note: this function is not conceptually difficult, but it is notoriously tricky to get all of the edge cases right without making the function unreadable.\n",
        "Take it as a challenge to write a version that is correct, concise, and readable.\n",
        "I found that I could write it more concisely as a generator function."
      ]
    },
    {
      "cell_type": "code",
      "execution_count": 3,
      "metadata": {
        "id": "FyOjtvEl-mfD"
      },
      "outputs": [],
      "source": [
        "def merge(left, right):\n",
        "    i, j = 0, 0\n",
        "    merged = []\n",
        "\n",
        "    # Walk through both lists\n",
        "    while i < len(left) and j < len(right):\n",
        "        if left[i] <= right[j]:\n",
        "            merged.append(left[i])\n",
        "            i += 1\n",
        "        else:\n",
        "            merged.append(right[j])\n",
        "            j += 1\n",
        "\n",
        "    # Append the leftovers (only one of these will run)\n",
        "    merged.extend(left[i:])\n",
        "    merged.extend(right[j:])\n",
        "\n",
        "    return merged\n",
        "\n",
        "def merge_generator(left, right):\n",
        "    i, j = 0, 0\n",
        "    while i < len(left) and j < len(right):\n",
        "        if left[i] <= right[j]:\n",
        "            yield left[i]\n",
        "            i += 1\n",
        "        else:\n",
        "            yield right[j]\n",
        "            j += 1\n",
        "\n",
        "    # yield remaining items (one of these will be empty)\n",
        "    while i < len(left):\n",
        "        yield left[i]\n",
        "        i += 1\n",
        "\n",
        "    while j < len(right):\n",
        "        yield right[j]\n",
        "        j += 1\n",
        "\n",
        "\n",
        "############################################################\n",
        "# Example if we have\n",
        "#left = [1, 3, 5]\n",
        "#right = [2, 4]\n",
        "#\n",
        "# First while loop merges until right is exhausted →\n",
        "#                          yields [1,2,3,4] with i=2, j=2.\n",
        "# as j =2 which is lenght of second list so loop exits.\n",
        "#Second while loop finishes remaining left →\n",
        "#                                      yields [5].\n",
        "#\n",
        "#\n",
        "################################################################\n"
      ]
    },
    {
      "cell_type": "markdown",
      "metadata": {
        "id": "pLvfMlv2-mfD"
      },
      "source": [
        "You can use the following example to test your code."
      ]
    },
    {
      "cell_type": "code",
      "execution_count": 4,
      "metadata": {
        "colab": {
          "base_uri": "https://localhost:8080/"
        },
        "id": "Hweh3sKm-mfE",
        "outputId": "596950e2-9ada-454e-9739-97507b31875b"
      },
      "outputs": [
        {
          "output_type": "execute_result",
          "data": {
            "text/plain": [
              "[21, 24, 10, 18, 95, 16]"
            ]
          },
          "metadata": {},
          "execution_count": 4
        }
      ],
      "source": [
        "import random\n",
        "\n",
        "population = range(100)\n",
        "xs = random.sample(population, k=6)\n",
        "ys = random.sample(population, k=6)\n",
        "ys"
      ]
    },
    {
      "cell_type": "code",
      "execution_count": 5,
      "metadata": {
        "colab": {
          "base_uri": "https://localhost:8080/"
        },
        "id": "Zoet_Uvc-mfE",
        "outputId": "7d37c0a0-4b89-4590-8cab-8b2ba15dc9f1"
      },
      "outputs": [
        {
          "output_type": "stream",
          "name": "stdout",
          "text": [
            "[33, 39, 43, 50, 77, 93]\n"
          ]
        },
        {
          "output_type": "execute_result",
          "data": {
            "text/plain": [
              "[10, 16, 18, 21, 24, 95]"
            ]
          },
          "metadata": {},
          "execution_count": 5
        }
      ],
      "source": [
        "xs.sort()\n",
        "print(xs)\n",
        "ys.sort()\n",
        "ys"
      ]
    },
    {
      "cell_type": "code",
      "execution_count": 6,
      "metadata": {
        "colab": {
          "base_uri": "https://localhost:8080/"
        },
        "id": "PWKfmqLc-mfF",
        "outputId": "4b806b76-fae1-42f6-c179-63e254d34939"
      },
      "outputs": [
        {
          "output_type": "execute_result",
          "data": {
            "text/plain": [
              "[10, 16, 18, 21, 24, 33, 39, 43, 50, 77, 93, 95]"
            ]
          },
          "metadata": {},
          "execution_count": 6
        }
      ],
      "source": [
        "res = list(merge_generator(xs, ys))\n",
        "res"
      ]
    },
    {
      "cell_type": "code",
      "execution_count": 7,
      "metadata": {
        "colab": {
          "base_uri": "https://localhost:8080/"
        },
        "id": "tczjIHIH-mfF",
        "outputId": "fa89f552-19a5-4a8b-e856-c37268e9cde3"
      },
      "outputs": [
        {
          "output_type": "execute_result",
          "data": {
            "text/plain": [
              "True"
            ]
          },
          "metadata": {},
          "execution_count": 7
        }
      ],
      "source": [
        "sorted(res) == res"
      ]
    },
    {
      "cell_type": "markdown",
      "metadata": {
        "id": "tjkkoHGw-mfF"
      },
      "source": [
        "**Exercise:**  Starting with `merge_sort_norec`, write a function called `merge_sort_rec` that's fully recursive; that is, instead of using Python's `sort` function to sort the halves, it should use `merge_sort_rec`.  Of course, you will need a base case to avoid an infinite recursion.\n",
        "\n"
      ]
    },
    {
      "cell_type": "code",
      "execution_count": 8,
      "metadata": {
        "id": "MesexXHA-mfG"
      },
      "outputs": [],
      "source": [
        "def merge_sort_rec(xs):\n",
        "    if len(xs) <= 1:  #base case\n",
        "        return xs\n",
        "    else:\n",
        "        mid = len(xs) // 2\n",
        "        #left = xs[:mid]\n",
        "        #right = xs[mid:]\n",
        "        left =  merge_sort_rec(xs[:mid])\n",
        "        right = merge_sort_rec(xs[mid:])\n",
        "        return merge(left, right)\n"
      ]
    },
    {
      "cell_type": "markdown",
      "metadata": {
        "id": "Nrlo0dXg-mfG"
      },
      "source": [
        "Test your method by running the code in the next cell, then use `test_merge_sort_rec`, below, to check the performance of your function."
      ]
    },
    {
      "cell_type": "code",
      "execution_count": 9,
      "metadata": {
        "colab": {
          "base_uri": "https://localhost:8080/"
        },
        "id": "eFH_mAEo-mfG",
        "outputId": "86b1be71-8f35-40aa-c7ed-2c9b3c1f5830"
      },
      "outputs": [
        {
          "output_type": "execute_result",
          "data": {
            "text/plain": [
              "[41, 57, 45, 40, 25, 8, 94, 85, 93, 27, 70, 6]"
            ]
          },
          "metadata": {},
          "execution_count": 9
        }
      ],
      "source": [
        "xs = random.sample(population, k=12)\n",
        "xs"
      ]
    },
    {
      "cell_type": "code",
      "execution_count": 10,
      "metadata": {
        "colab": {
          "base_uri": "https://localhost:8080/"
        },
        "id": "ouZpt1f6-mfG",
        "outputId": "9f0b3769-d7a9-4527-c90f-d9924268a658"
      },
      "outputs": [
        {
          "output_type": "execute_result",
          "data": {
            "text/plain": [
              "[6, 8, 25, 27, 40, 41, 45, 57, 70, 85, 93, 94]"
            ]
          },
          "metadata": {},
          "execution_count": 10
        }
      ],
      "source": [
        "res = list(merge_sort_rec(xs))\n",
        "res"
      ]
    },
    {
      "cell_type": "code",
      "execution_count": 11,
      "metadata": {
        "colab": {
          "base_uri": "https://localhost:8080/"
        },
        "id": "C4TvbWDp-mfH",
        "outputId": "aff1bda0-ff64-4105-b1be-6dd110ba9451"
      },
      "outputs": [
        {
          "output_type": "execute_result",
          "data": {
            "text/plain": [
              "True"
            ]
          },
          "metadata": {},
          "execution_count": 11
        }
      ],
      "source": [
        "sorted(res) == res"
      ]
    },
    {
      "cell_type": "markdown",
      "metadata": {
        "id": "ZtAHqsew-mfH"
      },
      "source": [
        "## Heap Merge\n",
        "\n",
        "Suppose we want to merge more than two sub-sequences.\n",
        "A convenient way to do that is to use a heap.\n",
        "For example, here are three sorted sub-sequences."
      ]
    },
    {
      "cell_type": "code",
      "execution_count": 27,
      "metadata": {
        "colab": {
          "base_uri": "https://localhost:8080/"
        },
        "id": "hqCZrreO-mfH",
        "outputId": "bba111b1-afb8-4b03-c474-c78f481b4f5b"
      },
      "outputs": [
        {
          "output_type": "execute_result",
          "data": {
            "text/plain": [
              "(3, 43, 2)"
            ]
          },
          "metadata": {},
          "execution_count": 27
        }
      ],
      "source": [
        "xs = random.sample(population, k=5)\n",
        "ys = random.sample(population, k=5)\n",
        "zs = random.sample(population, k=5)\n",
        "\n",
        "min(xs), min(ys), min(zs)"
      ]
    },
    {
      "cell_type": "code",
      "execution_count": 28,
      "metadata": {
        "id": "BO_ExPuO-mfI"
      },
      "outputs": [],
      "source": [
        "xs.sort()\n",
        "ys.sort()\n",
        "zs.sort()"
      ]
    },
    {
      "cell_type": "markdown",
      "metadata": {
        "id": "zwZOrg_D-mfI"
      },
      "source": [
        "For each sequence, I'll make an iterator and push onto the heap a tuple that contains:\n",
        "\n",
        "* The first element from the iterator,\n",
        "\n",
        "* An index that's different for each iterator, and\n",
        "\n",
        "* The iterator itself.\n",
        "\n",
        "When the heap compares two of these tuples, it compares the elements first.\n",
        "If there's a tie, it compares the indices.\n",
        "Since the indices are unique, there can't be a tie, so we never have to compare iterators (which would be an error)."
      ]
    },
    {
      "cell_type": "code",
      "execution_count": 29,
      "metadata": {
        "tags": [],
        "id": "j5gGfaPL-mfI"
      },
      "outputs": [],
      "source": [
        "sequences = [xs, ys, zs]"
      ]
    },
    {
      "cell_type": "code",
      "execution_count": 20,
      "metadata": {
        "tags": [],
        "id": "xVfjWr1A-mfJ"
      },
      "outputs": [],
      "source": [
        "from heapq import heappush, heappop\n",
        "\n",
        "heap = []\n",
        "for i, seq in enumerate(sequences):\n",
        "    iterator = iter(seq)\n",
        "    first = next(iterator)\n",
        "    heappush(heap, (first, i, iterator))"
      ]
    },
    {
      "cell_type": "markdown",
      "metadata": {
        "id": "FLU9k4KB-mfJ"
      },
      "source": [
        "When we pop a value from the heap, we get the tuple with the smallest value."
      ]
    },
    {
      "cell_type": "code",
      "execution_count": 21,
      "metadata": {
        "tags": [],
        "colab": {
          "base_uri": "https://localhost:8080/"
        },
        "id": "W67euSn3-mfJ",
        "outputId": "3b5c0811-47bb-49bc-9d21-fbb794b2df29"
      },
      "outputs": [
        {
          "output_type": "execute_result",
          "data": {
            "text/plain": [
              "0"
            ]
          },
          "metadata": {},
          "execution_count": 21
        }
      ],
      "source": [
        "value, i, iterator = heappop(heap)\n",
        "value"
      ]
    },
    {
      "cell_type": "markdown",
      "metadata": {
        "id": "TpXDTr9i-mfJ"
      },
      "source": [
        "If we know that the iterator has more values, we can use `next` to get the next one and then push a tuple back into the heap."
      ]
    },
    {
      "cell_type": "code",
      "execution_count": null,
      "metadata": {
        "tags": [],
        "id": "qf02gS-b-mfK"
      },
      "outputs": [],
      "source": [
        "heappush(heap, (next(iterator), i, iterator))"
      ]
    },
    {
      "cell_type": "markdown",
      "metadata": {
        "id": "cMA1ZoAZ-mfK"
      },
      "source": [
        "If we repeat this process, we'll get all elements from all sub-sequences in ascending order.\n",
        "\n",
        "However, we have to deal with the case where the iterator is empty.\n",
        "In Python, the only way to check is to call `next` and take your chances!\n",
        "If there are no more elements in the iterator, `next` raises a `StopIteration` exception, which you can handle with a `try` statement, like this:"
      ]
    },
    {
      "cell_type": "code",
      "execution_count": 22,
      "metadata": {
        "tags": [],
        "colab": {
          "base_uri": "https://localhost:8080/"
        },
        "id": "xrjCfjGp-mfK",
        "outputId": "3547a80b-c500-4658-9690-4952d7b4f77d"
      },
      "outputs": [
        {
          "output_type": "stream",
          "name": "stdout",
          "text": [
            "25\n",
            "39\n",
            "71\n",
            "92\n",
            "93\n"
          ]
        }
      ],
      "source": [
        "iterator = iter(xs)\n",
        "\n",
        "while True:\n",
        "    try:\n",
        "        print(next(iterator))\n",
        "    except StopIteration:\n",
        "        break"
      ]
    },
    {
      "cell_type": "markdown",
      "metadata": {
        "id": "uVKACVsl-mfK"
      },
      "source": [
        "**Exercise:** Write a generator function called `heapmerge` that takes a list of sequences and yields the elements from the sequences in increasing order."
      ]
    },
    {
      "cell_type": "code",
      "execution_count": 26,
      "metadata": {
        "id": "Da-LJ2es-mfK"
      },
      "outputs": [],
      "source": [
        "from heapq import heappush, heappop\n",
        "\n",
        "from heapq import heappush, heappop\n",
        "\n",
        "def heapmerge(sequences):\n",
        "    heap = []\n",
        "    # Step 1: Initialize the heap with the first element of each sequence\n",
        "    for i, seq in enumerate(sequences):\n",
        "        it = iter(seq)              # get an iterator for this sequence\n",
        "        try:\n",
        "            first = next(it)        # take the first element\n",
        "            heappush(heap, (first, i, it))  # push tuple (value, seq_id, iterator)\n",
        "        except StopIteration:\n",
        "            pass   # ignore empty sequences\n",
        "\n",
        "    # Step 2: Extract elements one by one in sorted order\n",
        "    while heap:\n",
        "        value, i, it = heappop(heap)   # get the smallest element\n",
        "        yield value                    # output it\n",
        "\n",
        "        # Step 3: Advance the same iterator and push the next element (if any)\n",
        "        try:\n",
        "            nxt = next(it)\n",
        "            heappush(heap, (nxt, i, it))\n",
        "        except StopIteration:\n",
        "            pass   # this sequence is finished\n",
        "\n"
      ]
    },
    {
      "cell_type": "markdown",
      "metadata": {
        "id": "BLqCVE30-mfL"
      },
      "source": [
        "You can use the following examples to test your function."
      ]
    },
    {
      "cell_type": "code",
      "execution_count": 30,
      "metadata": {
        "colab": {
          "base_uri": "https://localhost:8080/"
        },
        "id": "lO-uUTSq-mfL",
        "outputId": "2584a703-e6b9-4587-aecf-034cfa2c221f"
      },
      "outputs": [
        {
          "output_type": "execute_result",
          "data": {
            "text/plain": [
              "[2, 3, 4, 41, 43, 45, 48, 50, 56, 63, 76, 81, 88, 88, 96]"
            ]
          },
          "metadata": {},
          "execution_count": 30
        }
      ],
      "source": [
        "seq = list(heapmerge([xs, ys, zs]))\n",
        "seq"
      ]
    },
    {
      "cell_type": "code",
      "execution_count": 31,
      "metadata": {
        "colab": {
          "base_uri": "https://localhost:8080/"
        },
        "id": "8Ih0uWoe-mfL",
        "outputId": "a3f58f74-22e5-4da6-ec4e-acba228b670d"
      },
      "outputs": [
        {
          "output_type": "execute_result",
          "data": {
            "text/plain": [
              "True"
            ]
          },
          "metadata": {},
          "execution_count": 31
        }
      ],
      "source": [
        "sorted(seq) == seq"
      ]
    },
    {
      "cell_type": "markdown",
      "metadata": {
        "id": "rnTQx_YI-mfM"
      },
      "source": [
        "The `heapq` module provides a function called `merge` that implements this algorithm."
      ]
    },
    {
      "cell_type": "markdown",
      "metadata": {
        "id": "Ybdkxw-J-mfM"
      },
      "source": [
        "## Comparing sort algorithms\n",
        "\n",
        "NumPy provides implementations of three sorting algorithms, quicksort, mergesort, and heapsort.\n",
        "\n",
        "In theory that are all in `O(n log n)`.\n",
        "Let's see what that looks like when we plot runtime versus problem size.\n"
      ]
    },
    {
      "cell_type": "code",
      "execution_count": null,
      "metadata": {
        "id": "46PqcaOh-mfM"
      },
      "outputs": [],
      "source": [
        "from os.path import basename, exists\n",
        "\n",
        "def download(url):\n",
        "    filename = basename(url)\n",
        "    if not exists(filename):\n",
        "        from urllib.request import urlretrieve\n",
        "        local, _ = urlretrieve(url, filename)\n",
        "        print('Downloaded ' + local)\n",
        "\n",
        "download('https://github.com/AllenDowney/DSIRP/raw/main/timing.py')"
      ]
    },
    {
      "cell_type": "code",
      "execution_count": null,
      "metadata": {
        "id": "yMVKAjJU-mfR"
      },
      "outputs": [],
      "source": [
        "from timing import run_timing_test, plot_timing_test"
      ]
    },
    {
      "cell_type": "code",
      "execution_count": null,
      "metadata": {
        "id": "ytN7vpcN-mfS"
      },
      "outputs": [],
      "source": [
        "import numpy as np\n",
        "\n",
        "def test_quicksort(n):\n",
        "    xs = np.random.normal(size=n)\n",
        "    xs.sort(kind='quicksort')\n",
        "\n",
        "ns, ts = run_timing_test(test_quicksort)\n",
        "plot_timing_test(ns, ts, 'test_quicksort', exp=1)"
      ]
    },
    {
      "cell_type": "markdown",
      "metadata": {
        "id": "x49GrBfN-mfS"
      },
      "source": [
        "quicksort is hard to distinguish from linear, up to about 10 million elements."
      ]
    },
    {
      "cell_type": "code",
      "execution_count": null,
      "metadata": {
        "id": "JJSByd79-mfT"
      },
      "outputs": [],
      "source": [
        "def test_mergesort(n):\n",
        "    xs = np.random.normal(size=n)\n",
        "    xs.sort(kind='mergesort')\n",
        "\n",
        "ns, ts = run_timing_test(test_mergesort)\n",
        "plot_timing_test(ns, ts, 'test_mergesort', exp=1)"
      ]
    },
    {
      "cell_type": "markdown",
      "metadata": {
        "id": "p6NmAhpc-mfT"
      },
      "source": [
        "Merge sort is similar, maybe with some upward curvature."
      ]
    },
    {
      "cell_type": "code",
      "execution_count": null,
      "metadata": {
        "id": "3LjLkl37-mfT"
      },
      "outputs": [],
      "source": [
        "def test_heapsort(n):\n",
        "    xs = np.random.normal(size=n)\n",
        "    xs.sort(kind='heapsort')\n",
        "\n",
        "ns, ts = run_timing_test(test_quicksort)\n",
        "plot_timing_test(ns, ts, 'test_heapsort', exp=1)"
      ]
    },
    {
      "cell_type": "markdown",
      "metadata": {
        "id": "ugxcbO8Y-mfU"
      },
      "source": [
        "The three methods are effectively linear over this range of problem sizes.\n",
        "\n",
        "And their run times are about the same, with quicksort being the fastest, despite being the one with the worst asympotic performance in the worst case.\n",
        "\n",
        "Now let's see how our implementation of merge sort does."
      ]
    },
    {
      "cell_type": "code",
      "execution_count": null,
      "metadata": {
        "id": "z9wqozP5-mfU"
      },
      "outputs": [],
      "source": [
        "def test_merge_sort_rec(n):\n",
        "    xs = np.random.normal(size=n)\n",
        "    spectrum = merge_sort_rec(xs)\n",
        "\n",
        "ns, ts = run_timing_test(test_merge_sort_rec)\n",
        "plot_timing_test(ns, ts, 'test_merge_sort_rec', exp=1)"
      ]
    },
    {
      "cell_type": "markdown",
      "metadata": {
        "id": "CfQdt_IL-mfU"
      },
      "source": [
        "If things go according to plan, our implementation of merge sort should be close to linear, or a little steeper."
      ]
    },
    {
      "cell_type": "markdown",
      "metadata": {
        "id": "YPHOhtnx-mfV"
      },
      "source": [
        "*Data Structures and Information Retrieval in Python*\n",
        "\n",
        "Copyright 2021 Allen Downey\n",
        "\n",
        "License: [Creative Commons Attribution-NonCommercial-ShareAlike 4.0 International](https://creativecommons.org/licenses/by-nc-sa/4.0/)"
      ]
    }
  ],
  "metadata": {
    "anaconda-cloud": {},
    "celltoolbar": "Tags",
    "kernelspec": {
      "display_name": "Python 3 (ipykernel)",
      "language": "python",
      "name": "python3"
    },
    "language_info": {
      "codemirror_mode": {
        "name": "ipython",
        "version": 3
      },
      "file_extension": ".py",
      "mimetype": "text/x-python",
      "name": "python",
      "nbconvert_exporter": "python",
      "pygments_lexer": "ipython3",
      "version": "3.10.1"
    },
    "colab": {
      "provenance": []
    }
  },
  "nbformat": 4,
  "nbformat_minor": 0
}