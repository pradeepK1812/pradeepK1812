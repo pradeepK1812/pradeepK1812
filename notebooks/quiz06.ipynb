{
  "cells": [
    {
      "cell_type": "markdown",
      "metadata": {
        "id": "4B5wAZ1JYnnG"
      },
      "source": [
        "# Quiz 6\n",
        "\n",
        "BEFORE YOU START THIS QUIZ:\n",
        "\n",
        "1. Click on \"Copy to Drive\" to make a copy of the quiz,\n",
        "\n",
        "2. Click on \"Share\",\n",
        "    \n",
        "3. Click on \"Change\" and select \"Anyone with this link can edit\"\n",
        "    \n",
        "4. Click \"Copy link\" and\n",
        "\n",
        "5. Paste the link into [this Canvas assignment](https://canvas.olin.edu/courses/313/assignments/5138)."
      ]
    },
    {
      "cell_type": "markdown",
      "metadata": {
        "id": "8Nj3Cd4RYnnU"
      },
      "source": [
        "This quiz is open notes, open internet.\n",
        "\n",
        "* You can ask for help from the instructor, but not from anyone else.\n",
        "\n",
        "* You can use code you find on the internet, but if you use more than a couple of lines from a single source, you should attribute the source.\n",
        "\n"
      ]
    },
    {
      "cell_type": "markdown",
      "metadata": {
        "id": "4uxetwolYnnX"
      },
      "source": [
        "## A tree of sequences\n",
        "\n",
        "Suppose you have a large number of DNA sequences, represented using strings containing the characters `A`, `C`, `G`, and `T`, which are the bases that make up DNA.\n",
        "\n",
        "One way to store these sequences is in a tree where each node has four children, one for each base.\n",
        "Here's a class definition for such a node."
      ]
    },
    {
      "cell_type": "code",
      "execution_count": 3,
      "metadata": {
        "tags": [],
        "id": "0O5uKnI0YnnZ"
      },
      "outputs": [],
      "source": [
        "class Node:\n",
        "    def __init__(self):\n",
        "        self.children = [None, None, None, None]\n",
        "        self.end = False\n",
        "\n",
        "    def __repr__(self):\n",
        "        return f'Node({self.end}, {self.children})'"
      ]
    },
    {
      "cell_type": "markdown",
      "metadata": {
        "id": "3aNzG8riYnne"
      },
      "source": [
        "The instance variables are:\n",
        "\n",
        "* `children`, which is a list of four `Node` objects, where `None` indicates that a child is missing.\n",
        "\n",
        "* `end`: which is a `bool` that indicates whether this `Node` represents the end of a sequence.\n",
        "\n",
        "I'll use the following dictionary to map from each base to its index in the list of children."
      ]
    },
    {
      "cell_type": "code",
      "execution_count": 8,
      "metadata": {
        "colab": {
          "base_uri": "https://localhost:8080/"
        },
        "id": "GkYVpwtgYnng",
        "outputId": "a34fa709-5131-4f54-dbab-82462bd06143"
      },
      "outputs": [
        {
          "output_type": "execute_result",
          "data": {
            "text/plain": [
              "{'A': 0, 'C': 1, 'G': 2, 'T': 3}"
            ]
          },
          "metadata": {},
          "execution_count": 8
        }
      ],
      "source": [
        "index_map = dict(A=0, C=1, G=2, T=3)\n",
        "index_map"
      ]
    },
    {
      "cell_type": "markdown",
      "metadata": {
        "id": "8yqvEyeoYnni"
      },
      "source": [
        "The following function inserts a new sequence into the tree."
      ]
    },
    {
      "cell_type": "code",
      "execution_count": 13,
      "metadata": {
        "tags": [],
        "id": "1hFnFQH_Ynnj"
      },
      "outputs": [],
      "source": [
        "def insert(root, sequence):\n",
        "    node = root\n",
        "    for base in sequence:\n",
        "        i = index_map[base]\n",
        "        if node.children[i] is None:\n",
        "            node.children[i] = Node()\n",
        "        node = node.children[i]\n",
        "    node.end = True"
      ]
    },
    {
      "cell_type": "markdown",
      "metadata": {
        "id": "PB87l2TnYnnl"
      },
      "source": [
        "As an example, here's a tree that contains only one sequence, `CA`."
      ]
    },
    {
      "cell_type": "code",
      "execution_count": 14,
      "metadata": {
        "colab": {
          "base_uri": "https://localhost:8080/"
        },
        "id": "58gup4ddYnnn",
        "outputId": "2bcb28f8-36bf-4c9e-d846-f3f3d0686c37"
      },
      "outputs": [
        {
          "output_type": "execute_result",
          "data": {
            "text/plain": [
              "Node(False, [None, Node(False, [Node(True, [None, None, None, None]), None, None, None]), None, None])"
            ]
          },
          "metadata": {},
          "execution_count": 14
        }
      ],
      "source": [
        "node = Node()\n",
        "insert(node, 'CA')\n",
        "node"
      ]
    },
    {
      "cell_type": "markdown",
      "metadata": {
        "id": "M4wtxp9xYnno"
      },
      "source": [
        "The root of the tree has a single child, at index `1`."
      ]
    },
    {
      "cell_type": "code",
      "execution_count": 15,
      "metadata": {
        "colab": {
          "base_uri": "https://localhost:8080/"
        },
        "id": "wa6FtJUwYnno",
        "outputId": "d95ef9f5-3163-4a3b-e081-013ba86a58d6"
      },
      "outputs": [
        {
          "output_type": "execute_result",
          "data": {
            "text/plain": [
              "Node(False, [Node(True, [None, None, None, None]), None, None, None])"
            ]
          },
          "metadata": {},
          "execution_count": 15
        }
      ],
      "source": [
        "child = node.children[1]\n",
        "child"
      ]
    },
    {
      "cell_type": "markdown",
      "metadata": {
        "id": "Wk0qLTd2Ynnp"
      },
      "source": [
        "The child has a single child, at index `0`."
      ]
    },
    {
      "cell_type": "code",
      "execution_count": 16,
      "metadata": {
        "colab": {
          "base_uri": "https://localhost:8080/"
        },
        "id": "Fk-zvUEaYnnq",
        "outputId": "a4710b96-dfe1-4a94-d1f6-0aff19047409"
      },
      "outputs": [
        {
          "output_type": "execute_result",
          "data": {
            "text/plain": [
              "Node(True, [None, None, None, None])"
            ]
          },
          "metadata": {},
          "execution_count": 16
        }
      ],
      "source": [
        "grandchild = child.children[0]\n",
        "grandchild"
      ]
    },
    {
      "cell_type": "markdown",
      "metadata": {
        "id": "vQGatj1hYnnr"
      },
      "source": [
        "In the grandchild, `end` is `True`, which indicates that there is a sequence in the tree that ends at this node.\n",
        "\n",
        "Here's an example with more sequences."
      ]
    },
    {
      "cell_type": "code",
      "execution_count": 17,
      "metadata": {
        "id": "JZOWPO46Ynnr"
      },
      "outputs": [],
      "source": [
        "tree = Node()\n",
        "for sequence in ['ACGT', 'ACAT', 'CAT', 'CATATTAC']:\n",
        "    insert(tree, sequence)"
      ]
    },
    {
      "cell_type": "markdown",
      "metadata": {
        "id": "e1VC1T6RYnns"
      },
      "source": [
        "I'll use NetworkX and EoN to draw this tree."
      ]
    },
    {
      "cell_type": "code",
      "execution_count": 18,
      "metadata": {
        "colab": {
          "base_uri": "https://localhost:8080/"
        },
        "id": "cBGrV9_WYnnt",
        "outputId": "1885b98c-d8bb-4fb9-c8ae-0d21ea1343d5"
      },
      "outputs": [
        {
          "output_type": "stream",
          "name": "stdout",
          "text": [
            "Collecting EoN\n",
            "  Downloading eon-1.2.tar.gz (117 kB)\n",
            "\u001b[?25l     \u001b[90m━━━━━━━━━━━━━━━━━━━━━━━━━━━━━━━━━━━━━━━━\u001b[0m \u001b[32m0.0/117.3 kB\u001b[0m \u001b[31m?\u001b[0m eta \u001b[36m-:--:--\u001b[0m\r\u001b[2K     \u001b[91m━━━━━━━━━━━━━━━━━━━━━━━━━━━━━━━━━━━━━\u001b[0m\u001b[90m╺\u001b[0m\u001b[90m━\u001b[0m \u001b[32m112.6/117.3 kB\u001b[0m \u001b[31m3.1 MB/s\u001b[0m eta \u001b[36m0:00:01\u001b[0m\r\u001b[2K     \u001b[90m━━━━━━━━━━━━━━━━━━━━━━━━━━━━━━━━━━━━━━━\u001b[0m \u001b[32m117.3/117.3 kB\u001b[0m \u001b[31m2.4 MB/s\u001b[0m eta \u001b[36m0:00:00\u001b[0m\n",
            "\u001b[?25h  Preparing metadata (setup.py) ... \u001b[?25l\u001b[?25hdone\n",
            "Requirement already satisfied: networkx>=2 in /usr/local/lib/python3.12/dist-packages (from EoN) (3.5)\n",
            "Requirement already satisfied: numpy in /usr/local/lib/python3.12/dist-packages (from EoN) (2.0.2)\n",
            "Requirement already satisfied: scipy in /usr/local/lib/python3.12/dist-packages (from EoN) (1.16.1)\n",
            "Requirement already satisfied: matplotlib in /usr/local/lib/python3.12/dist-packages (from EoN) (3.10.0)\n",
            "Requirement already satisfied: contourpy>=1.0.1 in /usr/local/lib/python3.12/dist-packages (from matplotlib->EoN) (1.3.3)\n",
            "Requirement already satisfied: cycler>=0.10 in /usr/local/lib/python3.12/dist-packages (from matplotlib->EoN) (0.12.1)\n",
            "Requirement already satisfied: fonttools>=4.22.0 in /usr/local/lib/python3.12/dist-packages (from matplotlib->EoN) (4.59.1)\n",
            "Requirement already satisfied: kiwisolver>=1.3.1 in /usr/local/lib/python3.12/dist-packages (from matplotlib->EoN) (1.4.9)\n",
            "Requirement already satisfied: packaging>=20.0 in /usr/local/lib/python3.12/dist-packages (from matplotlib->EoN) (25.0)\n",
            "Requirement already satisfied: pillow>=8 in /usr/local/lib/python3.12/dist-packages (from matplotlib->EoN) (11.3.0)\n",
            "Requirement already satisfied: pyparsing>=2.3.1 in /usr/local/lib/python3.12/dist-packages (from matplotlib->EoN) (3.2.3)\n",
            "Requirement already satisfied: python-dateutil>=2.7 in /usr/local/lib/python3.12/dist-packages (from matplotlib->EoN) (2.9.0.post0)\n",
            "Requirement already satisfied: six>=1.5 in /usr/local/lib/python3.12/dist-packages (from python-dateutil>=2.7->matplotlib->EoN) (1.17.0)\n",
            "Building wheels for collected packages: EoN\n",
            "  Building wheel for EoN (setup.py) ... \u001b[?25l\u001b[?25hdone\n",
            "  Created wheel for EoN: filename=EoN-1.2-py3-none-any.whl size=122468 sha256=d7ce3cc7d2ce30ee0df7b766da21abcaa3b114fe6af343230544dc6226e0da3a\n",
            "  Stored in directory: /root/.cache/pip/wheels/53/e8/9d/8cce28ba7bdd58b1859da5582e7ca593ceae00cf9c996a3467\n",
            "Successfully built EoN\n",
            "Installing collected packages: EoN\n",
            "Successfully installed EoN-1.2\n"
          ]
        }
      ],
      "source": [
        "try:\n",
        "    import EoN\n",
        "except ImportError:\n",
        "    !pip install EoN"
      ]
    },
    {
      "cell_type": "code",
      "execution_count": 19,
      "metadata": {
        "id": "_IeHpNhSYnnt"
      },
      "outputs": [],
      "source": [
        "import networkx as nx\n",
        "\n",
        "def add_edges(parent, G):\n",
        "    \"\"\"Traverse the tree and add edges to G.\"\"\"\n",
        "    for child in parent.children:\n",
        "        if child:\n",
        "            G.add_edge(parent, child)\n",
        "            add_edges(child, G)"
      ]
    },
    {
      "cell_type": "code",
      "execution_count": 20,
      "metadata": {
        "id": "7M2Iq2LkYnnu"
      },
      "outputs": [],
      "source": [
        "G = nx.DiGraph()\n",
        "add_edges(tree, G)"
      ]
    },
    {
      "cell_type": "code",
      "execution_count": 21,
      "metadata": {
        "id": "BKFd-xd4Ynnv"
      },
      "outputs": [],
      "source": [
        "def get_labels(parent, labels):\n",
        "    \"\"\"Traverse the tree and add node labels to a dictionary.\"\"\"\n",
        "    if parent.end:\n",
        "        labels[parent] = '*'\n",
        "    else:\n",
        "        labels[parent] = ''\n",
        "\n",
        "    for child in parent.children:\n",
        "        if child:\n",
        "            get_labels(child, labels)"
      ]
    },
    {
      "cell_type": "code",
      "execution_count": 22,
      "metadata": {
        "id": "gyOJY7OVYnnw"
      },
      "outputs": [],
      "source": [
        "def get_edge_labels(parent, edge_labels):\n",
        "    \"\"\"Traverse the tree and add edge labels to a dictionary.\"\"\"\n",
        "    bases = 'ACGT'\n",
        "    for i, child in enumerate(parent.children):\n",
        "        if child:\n",
        "            edge_labels[parent, child] = bases[i]\n",
        "            get_edge_labels(child, edge_labels)"
      ]
    },
    {
      "cell_type": "code",
      "execution_count": 23,
      "metadata": {
        "id": "BJQdANNMYnnw"
      },
      "outputs": [],
      "source": [
        "from EoN import hierarchy_pos\n",
        "\n",
        "def draw_tree(tree):\n",
        "    G = nx.DiGraph()\n",
        "    add_edges(tree, G)\n",
        "    pos = hierarchy_pos(G)\n",
        "    labels = {}\n",
        "    get_labels(tree, labels)\n",
        "    edge_labels = {}\n",
        "    get_edge_labels(tree, edge_labels)\n",
        "    nx.draw(G, pos, labels=labels, alpha=0.4)\n",
        "    nx.draw_networkx_edge_labels(G, pos,\n",
        "                                 edge_labels=edge_labels,\n",
        "                                 font_color='C1')"
      ]
    },
    {
      "cell_type": "code",
      "execution_count": 24,
      "metadata": {
        "colab": {
          "base_uri": "https://localhost:8080/",
          "height": 516
        },
        "id": "Hb_Yed4xYnnx",
        "outputId": "ddfd46a3-bee3-493f-c620-75e7d9a3aee6"
      },
      "outputs": [
        {
          "output_type": "display_data",
          "data": {
            "text/plain": [
              "<Figure size 640x480 with 1 Axes>"
            ],
            "image/png": "[encoded data removed]"
          },
          "metadata": {}
        }
      ],
      "source": [
        "draw_tree(tree)"
      ]
    },
    {
      "cell_type": "markdown",
      "metadata": {
        "id": "zbuJc8iqYnnx"
      },
      "source": [
        "## Question 1\n",
        "\n",
        "Write a function called `find` that takes as parameters\n",
        "\n",
        "* A `Node` that represents the root of a tree and\n",
        "\n",
        "* A string representing a sequence of bases.\n",
        "\n",
        "It should return `True` if the sequence appears in the tree, and `False` otherwise."
      ]
    },
    {
      "cell_type": "code",
      "execution_count": 25,
      "metadata": {
        "id": "1d5WJl49Ynny"
      },
      "outputs": [],
      "source": [
        "def find(root, sequence:str)->bool :\n",
        "    node = root\n",
        "    for base in sequence:\n",
        "        idx = index_map[base]\n",
        "        if node.children[idx] is None:   # path breaks\n",
        "            return False\n",
        "        node = node.children[idx] # move the node ahead\n",
        "    return node.end   # only True if this path marks the end of a sequence\n",
        "\n"
      ]
    },
    {
      "cell_type": "markdown",
      "metadata": {
        "id": "YMGJgyjtYnny"
      },
      "source": [
        "You can use the following examples to test your code:"
      ]
    },
    {
      "cell_type": "code",
      "execution_count": 16,
      "metadata": {
        "colab": {
          "base_uri": "https://localhost:8080/"
        },
        "id": "fompWKX3Ynny",
        "outputId": "050cd4f9-91ab-4022-fb35-f68cf742b4c3"
      },
      "outputs": [
        {
          "output_type": "execute_result",
          "data": {
            "text/plain": [
              "True"
            ]
          },
          "metadata": {},
          "execution_count": 16
        }
      ],
      "source": [
        "find(tree, 'CAT')  # should be True"
      ]
    },
    {
      "cell_type": "code",
      "execution_count": 17,
      "metadata": {
        "colab": {
          "base_uri": "https://localhost:8080/"
        },
        "id": "7osqEzuoYnny",
        "outputId": "028af300-9073-41b1-9c5c-96deaf2dc2a2"
      },
      "outputs": [
        {
          "output_type": "execute_result",
          "data": {
            "text/plain": [
              "True"
            ]
          },
          "metadata": {},
          "execution_count": 17
        }
      ],
      "source": [
        "find(tree, 'ACAT') # should be True"
      ]
    },
    {
      "cell_type": "code",
      "execution_count": 18,
      "metadata": {
        "colab": {
          "base_uri": "https://localhost:8080/"
        },
        "id": "KgyQ9gTDYnnz",
        "outputId": "4076546d-7d41-4d7c-853d-0e0f77a3ac37"
      },
      "outputs": [
        {
          "output_type": "execute_result",
          "data": {
            "text/plain": [
              "False"
            ]
          },
          "metadata": {},
          "execution_count": 18
        }
      ],
      "source": [
        "find(tree, 'TAG') # should be False"
      ]
    },
    {
      "cell_type": "code",
      "execution_count": 28,
      "metadata": {
        "colab": {
          "base_uri": "https://localhost:8080/"
        },
        "id": "IkwBixUQYnnz",
        "outputId": "6b86abfc-466e-40f9-dee0-bd4945de0e87"
      },
      "outputs": [
        {
          "output_type": "execute_result",
          "data": {
            "text/plain": [
              "False"
            ]
          },
          "metadata": {},
          "execution_count": 28
        }
      ],
      "source": [
        "find(tree, 'CA') # should be False"
      ]
    },
    {
      "cell_type": "markdown",
      "metadata": {
        "id": "HRaQMmZgYnnz"
      },
      "source": [
        "## Question 2\n",
        "\n",
        "Write a function called `find_all_rec` that takes as parameters:\n",
        "\n",
        "* A `Node` in a tree.\n",
        "\n",
        "* A path that indicates the sequence of bases from the root to the current `Node`.\n",
        "\n",
        "* A list of sequences.\n",
        "\n",
        "This function should traverse the tree and add to the list all of the complete sequences it discovers.\n",
        "\n",
        "Hint: Review `make_table` from `huffman.ipynb`."
      ]
    },
    {
      "cell_type": "code",
      "execution_count": 19,
      "metadata": {
        "id": "Db5o13DsYnn0"
      },
      "outputs": [],
      "source": [
        "BASE_MAP = {0: \"A\", 1: \"C\", 2: \"G\", 3: \"T\"}\n",
        "\n",
        "def find_all_rec(node, path, sequences):\n",
        "    \"\"\"\n",
        "    Traverse the trie from 'node' and add all complete sequences to 'sequences'.\n",
        "\n",
        "    :param node: current Node\n",
        "    :param path: list of bases collected so far\n",
        "    :param sequences: list that will store complete sequences\n",
        "    \"\"\"\n",
        "    if node.end:\n",
        "        sequences.append(\"\".join(path))\n",
        "\n",
        "    for i, child in enumerate(node.children):\n",
        "        if child is not None:\n",
        "            # extend path with current base\n",
        "           find_all_rec(child, path + BASE_MAP[i], sequences)\n",
        "\n",
        ""
      ]
    },
    {
      "cell_type": "markdown",
      "metadata": {
        "id": "LISybmB7Ynn0"
      },
      "source": [
        "You can use the following example to test your code."
      ]
    },
    {
      "cell_type": "code",
      "execution_count": 20,
      "metadata": {
        "colab": {
          "base_uri": "https://localhost:8080/"
        },
        "id": "sPxBYil8Ynn0",
        "outputId": "4c03315e-f59b-491a-8b9b-a46c3706ec85"
      },
      "outputs": [
        {
          "output_type": "execute_result",
          "data": {
            "text/plain": [
              "['ACAT', 'ACGT', 'CAT', 'CATATTAC']"
            ]
          },
          "metadata": {},
          "execution_count": 20
        }
      ],
      "source": [
        "t = []\n",
        "find_all_rec(tree, '', t)\n",
        "t"
      ]
    },
    {
      "cell_type": "markdown",
      "metadata": {
        "id": "1scrfJx1Ynn1"
      },
      "source": [
        "The result should be a list with the following elements, not necessarily in this order\n",
        "\n",
        "```\n",
        "['ACAT', 'ACGT', 'CAT', 'CATATTAC']\n",
        "```\n"
      ]
    },
    {
      "cell_type": "markdown",
      "metadata": {
        "id": "PpSR9dP0Ynn1"
      },
      "source": [
        "## Question 3\n",
        "\n",
        "Write a function called `find_all` that takes a `Node` and a sequence of bases. It should traverse the tree and return a list that contains all sequences in the tree that begin with the given prefix.\n",
        "\n",
        "Note: You can use `find_all_rec` as part of your solution even if your answer to the previous question does not work."
      ]
    },
    {
      "cell_type": "code",
      "execution_count": 23,
      "metadata": {
        "id": "e_XAXFfPYnn1"
      },
      "outputs": [],
      "source": [
        "def find_all(node, prefix):\n",
        "    sequences = []\n",
        "    find_all_rec(node, prefix, sequences)\n",
        "    return sequences"
      ]
    },
    {
      "cell_type": "markdown",
      "metadata": {
        "id": "CPMu91C9Ynn2"
      },
      "source": [
        "You can use the following examples to test your code."
      ]
    },
    {
      "cell_type": "code",
      "execution_count": 24,
      "metadata": {
        "colab": {
          "base_uri": "https://localhost:8080/"
        },
        "id": "ORAlV7_TYnn_",
        "outputId": "c372dc1c-ca13-4ec8-f73e-ab629b656e0a"
      },
      "outputs": [
        {
          "output_type": "execute_result",
          "data": {
            "text/plain": [
              "['CAACAT', 'CAACGT', 'CACAT', 'CACATATTAC']"
            ]
          },
          "metadata": {},
          "execution_count": 24
        }
      ],
      "source": [
        "find_all(tree, 'CA')   # Should return ['CAT', 'CATATTAC']"
      ]
    },
    {
      "cell_type": "code",
      "execution_count": 25,
      "metadata": {
        "colab": {
          "base_uri": "https://localhost:8080/"
        },
        "id": "r832aeodYnoA",
        "outputId": "c8cdf7b4-71f6-465b-8429-cfa9f9b936c9"
      },
      "outputs": [
        {
          "output_type": "execute_result",
          "data": {
            "text/plain": [
              "['AACAT', 'AACGT', 'ACAT', 'ACATATTAC']"
            ]
          },
          "metadata": {},
          "execution_count": 25
        }
      ],
      "source": [
        "find_all(tree, 'A')    # Should return ['ACAT', 'ACGT']"
      ]
    },
    {
      "cell_type": "code",
      "execution_count": 26,
      "metadata": {
        "colab": {
          "base_uri": "https://localhost:8080/"
        },
        "id": "_pXDYxfvYnoA",
        "outputId": "1ad044ab-2346-40a7-d0f7-bda14bb747a4"
      },
      "outputs": [
        {
          "output_type": "execute_result",
          "data": {
            "text/plain": [
              "['ACAT', 'ACGT', 'CAT', 'CATATTAC']"
            ]
          },
          "metadata": {},
          "execution_count": 26
        }
      ],
      "source": [
        "find_all(tree, '')     # Should return all sequences in the tree"
      ]
    },
    {
      "cell_type": "markdown",
      "metadata": {
        "id": "2BYINWz_YnoA"
      },
      "source": [
        "## Question 4\n",
        "\n",
        "Suppose we write a more general version of `Node.__init__` that takes `end` and `children` as optional parameters."
      ]
    },
    {
      "cell_type": "code",
      "execution_count": 28,
      "metadata": {
        "tags": [],
        "id": "7_V45MCaYnoB"
      },
      "outputs": [],
      "source": [
        "class BadNode:\n",
        "    def __init__(self, end=False, children=None): # each Node gets its own fresh [None, None, None, None] list. use None as the default, and create a new list inside the constructor:\n",
        "      if children is None:\n",
        "                children = [None, None, None, None]\n",
        "      self.children = children\n",
        "      self.end = end\n",
        "\n",
        "    def __repr__(self):\n",
        "        return f'Node({self.end}, {self.children})'\n",
        "\n",
        "\n",
        "\n",
        "\n",
        ""
      ]
    },
    {
      "cell_type": "markdown",
      "metadata": {
        "id": "39tf3PyJYnoB"
      },
      "source": [
        "And we write a version of `insert` that uses `BadNode`:"
      ]
    },
    {
      "cell_type": "code",
      "execution_count": 29,
      "metadata": {
        "tags": [],
        "id": "aCFptlnoYnoB"
      },
      "outputs": [],
      "source": [
        "def bad_insert(root, sequence):\n",
        "    node = root\n",
        "    for base in sequence:\n",
        "        i = index_map[base]\n",
        "        if node.children[i] is None:\n",
        "            node.children[i] = BadNode(end=False)\n",
        "        node = node.children[i]\n",
        "    node.end = True\n",
        "\n",
        "\n",
        ""
      ]
    },
    {
      "cell_type": "markdown",
      "metadata": {
        "id": "3GhnYkoTYnoC"
      },
      "source": [
        "If we use the new versions to make a tree, like this:"
      ]
    },
    {
      "cell_type": "code",
      "execution_count": 30,
      "metadata": {
        "id": "Kv6Fb-ymYnoC"
      },
      "outputs": [],
      "source": [
        "tree2 = BadNode()\n",
        "for sequence in ['ACGT', 'ACAT', 'CAT', 'CATATTAC']:\n",
        "    bad_insert(tree2, sequence)"
      ]
    },
    {
      "cell_type": "markdown",
      "metadata": {
        "id": "2LlwPFZnYnoC"
      },
      "source": [
        "It seems to work. But if we draw the tree, we get a `RecursionError`."
      ]
    },
    {
      "cell_type": "code",
      "execution_count": 31,
      "metadata": {
        "colab": {
          "base_uri": "https://localhost:8080/",
          "height": 516
        },
        "id": "RyHjxaTzYnoC",
        "outputId": "c5a611c9-e03f-428e-a986-0d8a7f0f389f"
      },
      "outputs": [
        {
          "output_type": "display_data",
          "data": {
            "text/plain": [
              "<Figure size 640x480 with 1 Axes>"
            ],
            "image/png": "[encoded data removed]"
          },
          "metadata": {}
        }
      ],
      "source": [
        "draw_tree(tree2)"
      ]
    },
    {
      "cell_type": "markdown",
      "metadata": {
        "id": "pePQWULRYnoD"
      },
      "source": [
        "In the cell that defines `BadNode`, write a comment that explains what the problem is, and then fix it.\n",
        "\n",
        "Note: Your fixed version should still accept `end` and `children` as optional parameters."
      ]
    },
    {
      "cell_type": "markdown",
      "metadata": {
        "id": "bfwYOoI0YnoD"
      },
      "source": [
        "*Data Structures and Information Retrieval in Python*\n",
        "\n",
        "Copyright 2021 Allen Downey\n",
        "\n",
        "License: [Creative Commons Attribution-NonCommercial-ShareAlike 4.0 International](https://creativecommons.org/licenses/by-nc-sa/4.0/)"
      ]
    },
    {
      "cell_type": "code",
      "execution_count": null,
      "metadata": {
        "id": "ICj_JcmiYnoD"
      },
      "outputs": [],
      "source": []
    }
  ],
  "metadata": {
    "kernelspec": {
      "display_name": "Python 3",
      "language": "python",
      "name": "python3"
    },
    "language_info": {
      "codemirror_mode": {
        "name": "ipython",
        "version": 3
      },
      "file_extension": ".py",
      "mimetype": "text/x-python",
      "name": "python",
      "nbconvert_exporter": "python",
      "pygments_lexer": "ipython3",
      "version": "3.9.4"
    },
    "colab": {
      "provenance": []
    }
  },
  "nbformat": 4,
  "nbformat_minor": 0
}